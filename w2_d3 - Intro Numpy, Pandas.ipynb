{
 "cells": [
  {
   "cell_type": "markdown",
   "metadata": {},
   "source": [
    "# Numpy"
   ]
  },
  {
   "cell_type": "code",
   "execution_count": 1,
   "metadata": {},
   "outputs": [],
   "source": [
    "import numpy as np"
   ]
  },
  {
   "cell_type": "code",
   "execution_count": 2,
   "metadata": {},
   "outputs": [
    {
     "data": {
      "text/plain": [
       "array([[0.01733484, 0.87489855, 0.66409092, 0.08008466],\n",
       "       [0.38574169, 0.85367326, 0.55649259, 0.11081625],\n",
       "       [0.18910638, 0.21608436, 0.47976771, 0.54687445],\n",
       "       [0.13002704, 0.97636184, 0.33887282, 0.22873085],\n",
       "       [0.75652062, 0.27855374, 0.068987  , 0.31648942],\n",
       "       [0.47703189, 0.41319131, 0.94953295, 0.28593424],\n",
       "       [0.82566561, 0.07674766, 0.54446454, 0.19239926],\n",
       "       [0.35370038, 0.47614875, 0.15385181, 0.79406025],\n",
       "       [0.16727522, 0.50411282, 0.64836588, 0.1742123 ],\n",
       "       [0.31731437, 0.39769779, 0.0334028 , 0.52873753]])"
      ]
     },
     "execution_count": 2,
     "metadata": {},
     "output_type": "execute_result"
    }
   ],
   "source": [
    "# matriz\n",
    "a=np.random.random((10,4))\n",
    "a"
   ]
  },
  {
   "cell_type": "code",
   "execution_count": 3,
   "metadata": {},
   "outputs": [
    {
     "data": {
      "text/plain": [
       "40"
      ]
     },
     "execution_count": 3,
     "metadata": {},
     "output_type": "execute_result"
    }
   ],
   "source": [
    "a.size"
   ]
  },
  {
   "cell_type": "code",
   "execution_count": 4,
   "metadata": {},
   "outputs": [
    {
     "data": {
      "text/plain": [
       "(10, 4)"
      ]
     },
     "execution_count": 4,
     "metadata": {},
     "output_type": "execute_result"
    }
   ],
   "source": [
    "a.shape"
   ]
  },
  {
   "cell_type": "code",
   "execution_count": 5,
   "metadata": {},
   "outputs": [
    {
     "data": {
      "text/plain": [
       "array([[[0.8180361 , 0.45600498],\n",
       "        [0.04471126, 0.34612086],\n",
       "        [0.30714511, 0.44638296]],\n",
       "\n",
       "       [[0.21723355, 0.14495298],\n",
       "        [0.1534135 , 0.57836215],\n",
       "        [0.68645639, 0.08419984]],\n",
       "\n",
       "       [[0.95556353, 0.72185678],\n",
       "        [0.35789369, 0.59625938],\n",
       "        [0.6629485 , 0.25928965]],\n",
       "\n",
       "       [[0.946139  , 0.16530205],\n",
       "        [0.54314783, 0.46087273],\n",
       "        [0.79653774, 0.15828406]],\n",
       "\n",
       "       [[0.09042659, 0.42157672],\n",
       "        [0.29883988, 0.25327702],\n",
       "        [0.65605426, 0.26425126]]])"
      ]
     },
     "execution_count": 5,
     "metadata": {},
     "output_type": "execute_result"
    }
   ],
   "source": [
    "# cubo\n",
    "b=np.random.random((5,3,2))\n",
    "b"
   ]
  },
  {
   "cell_type": "code",
   "execution_count": 7,
   "metadata": {},
   "outputs": [
    {
     "data": {
      "text/plain": [
       "(2, 3, 4, 5)"
      ]
     },
     "execution_count": 7,
     "metadata": {},
     "output_type": "execute_result"
    }
   ],
   "source": [
    "# tensor rango 4\n",
    "c=np.random.random((2,3,4,5))\n",
    "c.shape"
   ]
  },
  {
   "cell_type": "code",
   "execution_count": 9,
   "metadata": {},
   "outputs": [
    {
     "data": {
      "text/plain": [
       "numpy.ndarray"
      ]
     },
     "execution_count": 9,
     "metadata": {},
     "output_type": "execute_result"
    }
   ],
   "source": [
    "type(a[0])"
   ]
  },
  {
   "cell_type": "code",
   "execution_count": 11,
   "metadata": {},
   "outputs": [
    {
     "data": {
      "text/plain": [
       "array([[0.01733484, 0.87489855, 0.66409092, 0.08008466],\n",
       "       [0.38574169, 0.85367326, 0.55649259, 0.11081625],\n",
       "       [0.18910638, 0.21608436, 0.47976771, 0.54687445],\n",
       "       [0.13002704, 0.97636184, 0.33887282, 0.22873085],\n",
       "       [0.75652062, 0.27855374, 0.068987  , 0.31648942],\n",
       "       [0.47703189, 0.41319131, 0.94953295, 0.28593424],\n",
       "       [0.82566561, 0.07674766, 0.54446454, 0.19239926],\n",
       "       [0.35370038, 0.47614875, 0.15385181, 0.79406025],\n",
       "       [0.16727522, 0.50411282, 0.64836588, 0.1742123 ],\n",
       "       [0.31731437, 0.39769779, 0.0334028 , 0.52873753]])"
      ]
     },
     "execution_count": 11,
     "metadata": {},
     "output_type": "execute_result"
    }
   ],
   "source": [
    "a"
   ]
  },
  {
   "cell_type": "code",
   "execution_count": 10,
   "metadata": {},
   "outputs": [
    {
     "data": {
      "text/plain": [
       "array([0.01733484, 0.38574169, 0.18910638, 0.13002704, 0.75652062,\n",
       "       0.47703189, 0.82566561, 0.35370038, 0.16727522, 0.31731437])"
      ]
     },
     "execution_count": 10,
     "metadata": {},
     "output_type": "execute_result"
    }
   ],
   "source": [
    "a[:, 0]"
   ]
  },
  {
   "cell_type": "code",
   "execution_count": 12,
   "metadata": {},
   "outputs": [
    {
     "data": {
      "text/plain": [
       "0.06898700300815497"
      ]
     },
     "execution_count": 12,
     "metadata": {},
     "output_type": "execute_result"
    }
   ],
   "source": [
    "a[4,2]"
   ]
  },
  {
   "cell_type": "code",
   "execution_count": 13,
   "metadata": {},
   "outputs": [
    {
     "data": {
      "text/plain": [
       "array([[[0.89390951, 0.31186455, 0.47982635, 0.98359641, 0.79125905],\n",
       "        [0.91623549, 0.39573239, 0.81433373, 0.91374181, 0.81585122],\n",
       "        [0.75451558, 0.58885519, 0.64667176, 0.65330878, 0.69278229],\n",
       "        [0.09356   , 0.41268999, 0.12248687, 0.6972889 , 0.87776445]],\n",
       "\n",
       "       [[0.9564918 , 0.31607421, 0.96360239, 0.61695367, 0.32771823],\n",
       "        [0.32110885, 0.59432915, 0.1093376 , 0.92344875, 0.50796882],\n",
       "        [0.9426791 , 0.89869711, 0.39673523, 0.27731114, 0.57287862],\n",
       "        [0.58081385, 0.33051236, 0.52592781, 0.00888726, 0.77023635]],\n",
       "\n",
       "       [[0.43365704, 0.0688031 , 0.2894688 , 0.64358397, 0.45596058],\n",
       "        [0.183023  , 0.82854817, 0.67222816, 0.78330057, 0.73464812],\n",
       "        [0.39258773, 0.71910277, 0.59520887, 0.27487641, 0.50985739],\n",
       "        [0.48353033, 0.67787299, 0.59794252, 0.03005514, 0.45791013]]])"
      ]
     },
     "execution_count": 13,
     "metadata": {},
     "output_type": "execute_result"
    }
   ],
   "source": [
    "c[0]"
   ]
  },
  {
   "cell_type": "code",
   "execution_count": 14,
   "metadata": {},
   "outputs": [
    {
     "data": {
      "text/plain": [
       "array([[0.9564918 , 0.31607421, 0.96360239, 0.61695367, 0.32771823],\n",
       "       [0.32110885, 0.59432915, 0.1093376 , 0.92344875, 0.50796882],\n",
       "       [0.9426791 , 0.89869711, 0.39673523, 0.27731114, 0.57287862],\n",
       "       [0.58081385, 0.33051236, 0.52592781, 0.00888726, 0.77023635]])"
      ]
     },
     "execution_count": 14,
     "metadata": {},
     "output_type": "execute_result"
    }
   ],
   "source": [
    "c[0, 1]"
   ]
  },
  {
   "cell_type": "code",
   "execution_count": 15,
   "metadata": {},
   "outputs": [
    {
     "data": {
      "text/plain": [
       "array([0.32110885, 0.59432915, 0.1093376 , 0.92344875, 0.50796882])"
      ]
     },
     "execution_count": 15,
     "metadata": {},
     "output_type": "execute_result"
    }
   ],
   "source": [
    "c[0, 1, 1]"
   ]
  },
  {
   "cell_type": "code",
   "execution_count": 16,
   "metadata": {},
   "outputs": [
    {
     "data": {
      "text/plain": [
       "0.32110885294305835"
      ]
     },
     "execution_count": 16,
     "metadata": {},
     "output_type": "execute_result"
    }
   ],
   "source": [
    "c[0, 1, 1, 0]"
   ]
  },
  {
   "cell_type": "code",
   "execution_count": 17,
   "metadata": {},
   "outputs": [
    {
     "data": {
      "text/plain": [
       "array([0.9564918 , 0.32110885, 0.9426791 , 0.58081385])"
      ]
     },
     "execution_count": 17,
     "metadata": {},
     "output_type": "execute_result"
    }
   ],
   "source": [
    "c[0, 1, :, 0]"
   ]
  },
  {
   "cell_type": "code",
   "execution_count": 23,
   "metadata": {},
   "outputs": [
    {
     "data": {
      "text/plain": [
       "(3, 3)"
      ]
     },
     "execution_count": 23,
     "metadata": {},
     "output_type": "execute_result"
    }
   ],
   "source": [
    "# de listas a arrays\n",
    "lst_lst=[[1,2,3], [4,5,6], [7,8,9]]\n",
    "d=np.array(lst_lst)\n",
    "d.shape"
   ]
  },
  {
   "cell_type": "code",
   "execution_count": 25,
   "metadata": {},
   "outputs": [
    {
     "data": {
      "text/plain": [
       "array([[0.01733484, 0.87489855, 0.66409092, 0.08008466],\n",
       "       [0.38574169, 0.85367326, 0.55649259, 0.11081625],\n",
       "       [0.18910638, 0.21608436, 0.47976771, 0.54687445],\n",
       "       [0.13002704, 0.97636184, 0.33887282, 0.22873085],\n",
       "       [0.75652062, 0.27855374, 0.068987  , 0.31648942],\n",
       "       [0.47703189, 0.41319131, 0.94953295, 0.28593424],\n",
       "       [0.82566561, 0.07674766, 0.54446454, 0.19239926],\n",
       "       [0.35370038, 0.47614875, 0.15385181, 0.79406025],\n",
       "       [0.16727522, 0.50411282, 0.64836588, 0.1742123 ],\n",
       "       [0.31731437, 0.39769779, 0.0334028 , 0.52873753]])"
      ]
     },
     "execution_count": 25,
     "metadata": {},
     "output_type": "execute_result"
    }
   ],
   "source": [
    "a"
   ]
  },
  {
   "cell_type": "code",
   "execution_count": 24,
   "metadata": {},
   "outputs": [
    {
     "data": {
      "text/plain": [
       "16.383356352932523"
      ]
     },
     "execution_count": 24,
     "metadata": {},
     "output_type": "execute_result"
    }
   ],
   "source": [
    "# funciones matematicas\n",
    "np.sum(a)"
   ]
  },
  {
   "cell_type": "code",
   "execution_count": 31,
   "metadata": {},
   "outputs": [
    {
     "data": {
      "text/plain": [
       "16.383356352932523"
      ]
     },
     "execution_count": 31,
     "metadata": {},
     "output_type": "execute_result"
    }
   ],
   "source": [
    "s=np.sum(a, axis=0)\n",
    "np.sum(s, axis=0)"
   ]
  },
  {
   "cell_type": "code",
   "execution_count": 26,
   "metadata": {},
   "outputs": [
    {
     "data": {
      "text/plain": [
       "array([3.61971805, 5.06747007, 4.43782903, 3.2583392 ])"
      ]
     },
     "execution_count": 26,
     "metadata": {},
     "output_type": "execute_result"
    }
   ],
   "source": [
    "np.sum(a, axis=0)"
   ]
  },
  {
   "cell_type": "code",
   "execution_count": 27,
   "metadata": {},
   "outputs": [
    {
     "data": {
      "text/plain": [
       "array([1.63640898, 1.9067238 , 1.43183291, 1.67399255, 1.42055077,\n",
       "       2.12569039, 1.63927706, 1.77776119, 1.49396622, 1.27715249])"
      ]
     },
     "execution_count": 27,
     "metadata": {},
     "output_type": "execute_result"
    }
   ],
   "source": [
    "np.sum(a, axis=1)"
   ]
  },
  {
   "cell_type": "code",
   "execution_count": 28,
   "metadata": {},
   "outputs": [
    {
     "ename": "AxisError",
     "evalue": "axis 2 is out of bounds for array of dimension 2",
     "output_type": "error",
     "traceback": [
      "\u001b[0;31m---------------------------------------------------------------------------\u001b[0m",
      "\u001b[0;31mAxisError\u001b[0m                                 Traceback (most recent call last)",
      "\u001b[0;32m<ipython-input-28-2418335409e8>\u001b[0m in \u001b[0;36m<module>\u001b[0;34m\u001b[0m\n\u001b[0;32m----> 1\u001b[0;31m \u001b[0mnp\u001b[0m\u001b[0;34m.\u001b[0m\u001b[0msum\u001b[0m\u001b[0;34m(\u001b[0m\u001b[0ma\u001b[0m\u001b[0;34m,\u001b[0m \u001b[0maxis\u001b[0m\u001b[0;34m=\u001b[0m\u001b[0;36m2\u001b[0m\u001b[0;34m)\u001b[0m\u001b[0;34m\u001b[0m\u001b[0;34m\u001b[0m\u001b[0m\n\u001b[0m",
      "\u001b[0;32m<__array_function__ internals>\u001b[0m in \u001b[0;36msum\u001b[0;34m(*args, **kwargs)\u001b[0m\n",
      "\u001b[0;32m~/Library/Python/3.7/lib/python/site-packages/numpy/core/fromnumeric.py\u001b[0m in \u001b[0;36msum\u001b[0;34m(a, axis, dtype, out, keepdims, initial, where)\u001b[0m\n\u001b[1;32m   2180\u001b[0m \u001b[0;34m\u001b[0m\u001b[0m\n\u001b[1;32m   2181\u001b[0m     return _wrapreduction(a, np.add, 'sum', axis, dtype, out, keepdims=keepdims,\n\u001b[0;32m-> 2182\u001b[0;31m                           initial=initial, where=where)\n\u001b[0m\u001b[1;32m   2183\u001b[0m \u001b[0;34m\u001b[0m\u001b[0m\n\u001b[1;32m   2184\u001b[0m \u001b[0;34m\u001b[0m\u001b[0m\n",
      "\u001b[0;32m~/Library/Python/3.7/lib/python/site-packages/numpy/core/fromnumeric.py\u001b[0m in \u001b[0;36m_wrapreduction\u001b[0;34m(obj, ufunc, method, axis, dtype, out, **kwargs)\u001b[0m\n\u001b[1;32m     88\u001b[0m                 \u001b[0;32mreturn\u001b[0m \u001b[0mreduction\u001b[0m\u001b[0;34m(\u001b[0m\u001b[0maxis\u001b[0m\u001b[0;34m=\u001b[0m\u001b[0maxis\u001b[0m\u001b[0;34m,\u001b[0m \u001b[0mout\u001b[0m\u001b[0;34m=\u001b[0m\u001b[0mout\u001b[0m\u001b[0;34m,\u001b[0m \u001b[0;34m**\u001b[0m\u001b[0mpasskwargs\u001b[0m\u001b[0;34m)\u001b[0m\u001b[0;34m\u001b[0m\u001b[0;34m\u001b[0m\u001b[0m\n\u001b[1;32m     89\u001b[0m \u001b[0;34m\u001b[0m\u001b[0m\n\u001b[0;32m---> 90\u001b[0;31m     \u001b[0;32mreturn\u001b[0m \u001b[0mufunc\u001b[0m\u001b[0;34m.\u001b[0m\u001b[0mreduce\u001b[0m\u001b[0;34m(\u001b[0m\u001b[0mobj\u001b[0m\u001b[0;34m,\u001b[0m \u001b[0maxis\u001b[0m\u001b[0;34m,\u001b[0m \u001b[0mdtype\u001b[0m\u001b[0;34m,\u001b[0m \u001b[0mout\u001b[0m\u001b[0;34m,\u001b[0m \u001b[0;34m**\u001b[0m\u001b[0mpasskwargs\u001b[0m\u001b[0;34m)\u001b[0m\u001b[0;34m\u001b[0m\u001b[0;34m\u001b[0m\u001b[0m\n\u001b[0m\u001b[1;32m     91\u001b[0m \u001b[0;34m\u001b[0m\u001b[0m\n\u001b[1;32m     92\u001b[0m \u001b[0;34m\u001b[0m\u001b[0m\n",
      "\u001b[0;31mAxisError\u001b[0m: axis 2 is out of bounds for array of dimension 2"
     ]
    }
   ],
   "source": [
    "np.sum(a, axis=2)"
   ]
  },
  {
   "cell_type": "code",
   "execution_count": 32,
   "metadata": {},
   "outputs": [
    {
     "data": {
      "text/plain": [
       "array([[[0.8180361 , 0.45600498],\n",
       "        [0.04471126, 0.34612086],\n",
       "        [0.30714511, 0.44638296]],\n",
       "\n",
       "       [[0.21723355, 0.14495298],\n",
       "        [0.1534135 , 0.57836215],\n",
       "        [0.68645639, 0.08419984]],\n",
       "\n",
       "       [[0.95556353, 0.72185678],\n",
       "        [0.35789369, 0.59625938],\n",
       "        [0.6629485 , 0.25928965]],\n",
       "\n",
       "       [[0.946139  , 0.16530205],\n",
       "        [0.54314783, 0.46087273],\n",
       "        [0.79653774, 0.15828406]],\n",
       "\n",
       "       [[0.09042659, 0.42157672],\n",
       "        [0.29883988, 0.25327702],\n",
       "        [0.65605426, 0.26425126]]])"
      ]
     },
     "execution_count": 32,
     "metadata": {},
     "output_type": "execute_result"
    }
   ],
   "source": [
    "b"
   ]
  },
  {
   "cell_type": "code",
   "execution_count": 33,
   "metadata": {},
   "outputs": [
    {
     "data": {
      "text/plain": [
       "4.283019681095566"
      ]
     },
     "execution_count": 33,
     "metadata": {},
     "output_type": "execute_result"
    }
   ],
   "source": [
    "np.sum(b[:2])"
   ]
  },
  {
   "cell_type": "code",
   "execution_count": 34,
   "metadata": {},
   "outputs": [
    {
     "data": {
      "text/plain": [
       "0.4095839088233131"
      ]
     },
     "execution_count": 34,
     "metadata": {},
     "output_type": "execute_result"
    }
   ],
   "source": [
    "np.mean(a)"
   ]
  },
  {
   "cell_type": "code",
   "execution_count": 35,
   "metadata": {},
   "outputs": [
    {
     "data": {
      "text/plain": [
       "array([0.3619718 , 0.50674701, 0.4437829 , 0.32583392])"
      ]
     },
     "execution_count": 35,
     "metadata": {},
     "output_type": "execute_result"
    }
   ],
   "source": [
    "np.mean(a, axis=0)"
   ]
  },
  {
   "cell_type": "code",
   "execution_count": 36,
   "metadata": {},
   "outputs": [
    {
     "data": {
      "text/plain": [
       "array([0.40910224, 0.47668095, 0.35795823, 0.41849814, 0.35513769,\n",
       "       0.5314226 , 0.40981927, 0.4444403 , 0.37349155, 0.31928812])"
      ]
     },
     "execution_count": 36,
     "metadata": {},
     "output_type": "execute_result"
    }
   ],
   "source": [
    "np.mean(a, axis=1)"
   ]
  },
  {
   "cell_type": "code",
   "execution_count": 37,
   "metadata": {},
   "outputs": [
    {
     "data": {
      "text/plain": [
       "array([0.40307653, 1.72857181, 1.22058352, 0.19090091])"
      ]
     },
     "execution_count": 37,
     "metadata": {},
     "output_type": "execute_result"
    }
   ],
   "source": [
    "np.add(a[0], a[1])"
   ]
  },
  {
   "cell_type": "code",
   "execution_count": 38,
   "metadata": {},
   "outputs": [
    {
     "data": {
      "text/plain": [
       "array([[1.03526965, 0.60095796],\n",
       "       [0.19812476, 0.92448301],\n",
       "       [0.9936015 , 0.5305828 ]])"
      ]
     },
     "execution_count": 38,
     "metadata": {},
     "output_type": "execute_result"
    }
   ],
   "source": [
    "np.add(b[0], b[1])"
   ]
  },
  {
   "cell_type": "code",
   "execution_count": 39,
   "metadata": {},
   "outputs": [
    {
     "data": {
      "text/plain": [
       "array([-0.36840685,  0.02122529,  0.10759833, -0.03073158])"
      ]
     },
     "execution_count": 39,
     "metadata": {},
     "output_type": "execute_result"
    }
   ],
   "source": [
    "np.subtract(a[0], a[1])"
   ]
  },
  {
   "cell_type": "code",
   "execution_count": 40,
   "metadata": {},
   "outputs": [
    {
     "data": {
      "text/plain": [
       "array([0.00668677, 0.7468775 , 0.36956168, 0.00887468])"
      ]
     },
     "execution_count": 40,
     "metadata": {},
     "output_type": "execute_result"
    }
   ],
   "source": [
    "np.multiply(a[0], a[1])"
   ]
  },
  {
   "cell_type": "code",
   "execution_count": 42,
   "metadata": {},
   "outputs": [
    {
     "data": {
      "text/plain": [
       "array([0.2503816 , 0.28626482, 0.27825493, 0.21628505])"
      ]
     },
     "execution_count": 42,
     "metadata": {},
     "output_type": "execute_result"
    }
   ],
   "source": [
    "np.std(a, axis=0)"
   ]
  },
  {
   "cell_type": "code",
   "execution_count": 43,
   "metadata": {},
   "outputs": [
    {
     "data": {
      "text/plain": [
       "array([0.36868676, 0.26954593, 0.15745319, 0.3304464 , 0.25017457,\n",
       "       0.25100687, 0.29549352, 0.23233324, 0.20907846, 0.18148791])"
      ]
     },
     "execution_count": 43,
     "metadata": {},
     "output_type": "execute_result"
    }
   ],
   "source": [
    "np.std(a, axis=1)"
   ]
  },
  {
   "cell_type": "code",
   "execution_count": 44,
   "metadata": {},
   "outputs": [
    {
     "data": {
      "text/plain": [
       "array([ 0.01733484,  0.89223339,  1.55632431,  1.63640898,  2.02215067,\n",
       "        2.87582393,  3.43231652,  3.54313277,  3.73223916,  3.94832352,\n",
       "        4.42809123,  4.97496568,  5.10499272,  6.08135456,  6.42022738,\n",
       "        6.64895823,  7.40547884,  7.68403258,  7.75301959,  8.069509  ,\n",
       "        8.54654089,  8.9597322 ,  9.90926515, 10.19519939, 11.020865  ,\n",
       "       11.09761266, 11.6420772 , 11.83447646, 12.18817684, 12.66432559,\n",
       "       12.81817739, 13.61223764, 13.77951287, 14.28362568, 14.93199156,\n",
       "       15.10620386, 15.42351823, 15.82121602, 15.85461882, 16.38335635])"
      ]
     },
     "execution_count": 44,
     "metadata": {},
     "output_type": "execute_result"
    }
   ],
   "source": [
    "np.cumsum(a)"
   ]
  },
  {
   "cell_type": "code",
   "execution_count": 46,
   "metadata": {},
   "outputs": [
    {
     "data": {
      "text/plain": [
       "array([1.73348381e-02, 1.51662248e-02, 1.00717522e-02, 8.06592893e-04,\n",
       "       3.11136508e-04, 2.65608917e-04, 1.47809395e-04, 1.63796828e-05,\n",
       "       3.09750260e-06, 6.69321874e-07, 3.21119026e-07, 1.75611789e-07,\n",
       "       2.28342813e-08, 2.22945208e-08, 7.55500711e-09, 1.72806320e-09,\n",
       "       1.30731544e-09, 3.64157604e-10, 2.51221417e-11, 7.95089197e-12,\n",
       "       3.79282904e-12, 1.56716398e-12, 1.48807384e-12, 4.25491265e-13,\n",
       "       3.51313505e-13, 2.69624885e-14, 1.46801189e-14, 2.82444396e-15,\n",
       "       9.99006911e-16, 4.75675891e-16, 7.31835950e-17, 5.81121838e-17,\n",
       "       9.72072841e-18, 4.90034380e-18, 3.17721572e-18, 5.53510043e-19,\n",
       "       1.75636690e-19, 6.98503238e-20, 2.33319669e-21, 1.23364865e-21])"
      ]
     },
     "execution_count": 46,
     "metadata": {},
     "output_type": "execute_result"
    }
   ],
   "source": [
    "np.cumprod(a)"
   ]
  },
  {
   "cell_type": "code",
   "execution_count": 49,
   "metadata": {},
   "outputs": [
    {
     "data": {
      "text/plain": [
       "array([0.8180361 , 0.45600498, 0.04471126, 0.34612086, 0.30714511,\n",
       "       0.44638296, 0.21723355, 0.14495298, 0.1534135 , 0.57836215,\n",
       "       0.68645639, 0.08419984, 0.95556353, 0.72185678, 0.35789369,\n",
       "       0.59625938, 0.6629485 , 0.25928965, 0.946139  , 0.16530205,\n",
       "       0.54314783, 0.46087273, 0.79653774, 0.15828406, 0.09042659,\n",
       "       0.42157672, 0.29883988, 0.25327702, 0.65605426, 0.26425126])"
      ]
     },
     "execution_count": 49,
     "metadata": {},
     "output_type": "execute_result"
    }
   ],
   "source": [
    "b.flatten()"
   ]
  },
  {
   "cell_type": "code",
   "execution_count": 53,
   "metadata": {},
   "outputs": [
    {
     "data": {
      "text/plain": [
       "0.955563528278025"
      ]
     },
     "execution_count": 53,
     "metadata": {},
     "output_type": "execute_result"
    }
   ],
   "source": [
    "b.max()"
   ]
  },
  {
   "cell_type": "code",
   "execution_count": 54,
   "metadata": {},
   "outputs": [
    {
     "data": {
      "text/plain": [
       "0.0447112597482312"
      ]
     },
     "execution_count": 54,
     "metadata": {},
     "output_type": "execute_result"
    }
   ],
   "source": [
    "b.min()"
   ]
  },
  {
   "cell_type": "code",
   "execution_count": 55,
   "metadata": {},
   "outputs": [
    {
     "data": {
      "text/plain": [
       "(5, 3, 2)"
      ]
     },
     "execution_count": 55,
     "metadata": {},
     "output_type": "execute_result"
    }
   ],
   "source": [
    "b.shape"
   ]
  },
  {
   "cell_type": "code",
   "execution_count": 60,
   "metadata": {},
   "outputs": [
    {
     "data": {
      "text/plain": [
       "array([[[[[[0.8180361 , 0.45600498, 0.04471126, 0.34612086,\n",
       "            0.30714511, 0.44638296, 0.21723355, 0.14495298,\n",
       "            0.1534135 , 0.57836215, 0.68645639, 0.08419984,\n",
       "            0.95556353, 0.72185678, 0.35789369]]],\n",
       "\n",
       "\n",
       "         [[[0.59625938, 0.6629485 , 0.25928965, 0.946139  ,\n",
       "            0.16530205, 0.54314783, 0.46087273, 0.79653774,\n",
       "            0.15828406, 0.09042659, 0.42157672, 0.29883988,\n",
       "            0.25327702, 0.65605426, 0.26425126]]]]]])"
      ]
     },
     "execution_count": 60,
     "metadata": {},
     "output_type": "execute_result"
    }
   ],
   "source": [
    "b.reshape((1,1,2,1,1,15))"
   ]
  },
  {
   "cell_type": "code",
   "execution_count": 62,
   "metadata": {},
   "outputs": [
    {
     "data": {
      "text/plain": [
       "list"
      ]
     },
     "execution_count": 62,
     "metadata": {},
     "output_type": "execute_result"
    }
   ],
   "source": [
    "type(a.tolist())"
   ]
  },
  {
   "cell_type": "code",
   "execution_count": 64,
   "metadata": {},
   "outputs": [
    {
     "data": {
      "text/plain": [
       "array([[0.01733484, 0.38574169, 0.18910638, 0.13002704, 0.75652062,\n",
       "        0.47703189, 0.82566561, 0.35370038, 0.16727522, 0.31731437],\n",
       "       [0.87489855, 0.85367326, 0.21608436, 0.97636184, 0.27855374,\n",
       "        0.41319131, 0.07674766, 0.47614875, 0.50411282, 0.39769779],\n",
       "       [0.66409092, 0.55649259, 0.47976771, 0.33887282, 0.068987  ,\n",
       "        0.94953295, 0.54446454, 0.15385181, 0.64836588, 0.0334028 ],\n",
       "       [0.08008466, 0.11081625, 0.54687445, 0.22873085, 0.31648942,\n",
       "        0.28593424, 0.19239926, 0.79406025, 0.1742123 , 0.52873753]])"
      ]
     },
     "execution_count": 64,
     "metadata": {},
     "output_type": "execute_result"
    }
   ],
   "source": [
    "a.transpose()"
   ]
  },
  {
   "cell_type": "code",
   "execution_count": 65,
   "metadata": {},
   "outputs": [
    {
     "data": {
      "text/plain": [
       "array([[0.01733484, 0.38574169, 0.18910638, 0.13002704, 0.75652062,\n",
       "        0.47703189, 0.82566561, 0.35370038, 0.16727522, 0.31731437],\n",
       "       [0.87489855, 0.85367326, 0.21608436, 0.97636184, 0.27855374,\n",
       "        0.41319131, 0.07674766, 0.47614875, 0.50411282, 0.39769779],\n",
       "       [0.66409092, 0.55649259, 0.47976771, 0.33887282, 0.068987  ,\n",
       "        0.94953295, 0.54446454, 0.15385181, 0.64836588, 0.0334028 ],\n",
       "       [0.08008466, 0.11081625, 0.54687445, 0.22873085, 0.31648942,\n",
       "        0.28593424, 0.19239926, 0.79406025, 0.1742123 , 0.52873753]])"
      ]
     },
     "execution_count": 65,
     "metadata": {},
     "output_type": "execute_result"
    }
   ],
   "source": [
    "a.T"
   ]
  },
  {
   "cell_type": "code",
   "execution_count": 67,
   "metadata": {},
   "outputs": [
    {
     "data": {
      "text/plain": [
       "1.2131782781955387"
      ]
     },
     "execution_count": 67,
     "metadata": {},
     "output_type": "execute_result"
    }
   ],
   "source": [
    "np.dot(a[0], a[0].T)"
   ]
  },
  {
   "cell_type": "code",
   "execution_count": 70,
   "metadata": {},
   "outputs": [
    {
     "data": {
      "text/plain": [
       "array([[1.21317828, 1.13200063, 0.55473566, 1.09983175, 0.32798002,\n",
       "        1.02324491, 0.45844138, 0.58847683, 0.88847289, 0.41797208],\n",
       "       [1.13200063, 1.19951894, 0.58500141, 1.09757815, 0.60307835,\n",
       "        1.09683568, 0.70832252, 0.71652461, 0.87498902, 0.53908648],\n",
       "       [0.55473566, 0.58500141, 0.6117024 , 0.52323276, 0.4094317 ,\n",
       "        0.79141934, 0.53915735, 0.67783969, 0.54690098, 0.45112108],\n",
       "       [1.09983175, 1.09757815, 0.52323276, 1.13734206, 0.46610609,\n",
       "        0.85262416, 0.41080422, 0.74464635, 0.77350812, 0.56181428],\n",
       "       [0.32798002, 0.60307835, 0.4094317 , 0.46610609, 0.75484039,\n",
       "        0.63198104, 0.74446471, 0.66214009, 0.36683483, 0.52047926],\n",
       "       [1.02324491, 1.09683568, 0.79141934, 0.85262416, 0.63198104,\n",
       "        1.3816577 , 0.99758085, 0.73860326, 0.95354868, 0.49859557],\n",
       "       [0.45844138, 0.70832252, 0.53915735, 0.41080422, 0.74446471,\n",
       "        0.99758085, 1.02107301, 0.565125  , 0.56333342, 0.41243329],\n",
       "       [0.58847683, 0.71652461, 0.67783969, 0.74464635, 0.66214009,\n",
       "        0.73860326, 0.565125  , 1.00602365, 0.53728532, 0.72658606],\n",
       "       [0.88847289, 0.87498902, 0.54690098, 0.77350812, 0.36683483,\n",
       "        0.95354868, 0.56333342, 0.53728532, 0.73283897, 0.3673332 ],\n",
       "       [0.41797208, 0.53908648, 0.45112108, 0.56181428, 0.52047926,\n",
       "        0.49859557, 0.41243329, 0.72658606, 0.3673332 , 0.53953106]])"
      ]
     },
     "execution_count": 70,
     "metadata": {},
     "output_type": "execute_result"
    }
   ],
   "source": [
    "np.matmul(a, a.T)"
   ]
  },
  {
   "cell_type": "code",
   "execution_count": 73,
   "metadata": {},
   "outputs": [
    {
     "data": {
      "text/plain": [
       "0.2686702121380383"
      ]
     },
     "execution_count": 73,
     "metadata": {},
     "output_type": "execute_result"
    }
   ],
   "source": [
    "a.var()**0.5"
   ]
  },
  {
   "cell_type": "code",
   "execution_count": 74,
   "metadata": {},
   "outputs": [
    {
     "data": {
      "text/plain": [
       "0.2686702121380383"
      ]
     },
     "execution_count": 74,
     "metadata": {},
     "output_type": "execute_result"
    }
   ],
   "source": [
    "a.std()"
   ]
  },
  {
   "cell_type": "code",
   "execution_count": 79,
   "metadata": {},
   "outputs": [
    {
     "data": {
      "text/plain": [
       "(4, 4)"
      ]
     },
     "execution_count": 79,
     "metadata": {},
     "output_type": "execute_result"
    }
   ],
   "source": [
    "a[:4, :].shape"
   ]
  },
  {
   "cell_type": "code",
   "execution_count": 80,
   "metadata": {},
   "outputs": [
    {
     "data": {
      "text/plain": [
       "-0.07688120645073505"
      ]
     },
     "execution_count": 80,
     "metadata": {},
     "output_type": "execute_result"
    }
   ],
   "source": [
    "np.linalg.det(a[:4, :])"
   ]
  },
  {
   "cell_type": "code",
   "execution_count": 81,
   "metadata": {},
   "outputs": [],
   "source": [
    "# https://docs.scipy.org/doc/numpy/reference/ufuncs.html"
   ]
  },
  {
   "cell_type": "code",
   "execution_count": 84,
   "metadata": {},
   "outputs": [
    {
     "data": {
      "text/plain": [
       "inf"
      ]
     },
     "execution_count": 84,
     "metadata": {},
     "output_type": "execute_result"
    }
   ],
   "source": [
    "np.inf"
   ]
  },
  {
   "cell_type": "markdown",
   "metadata": {},
   "source": [
    "# Pandas"
   ]
  },
  {
   "cell_type": "code",
   "execution_count": 85,
   "metadata": {},
   "outputs": [],
   "source": [
    "import pandas as pd"
   ]
  },
  {
   "cell_type": "code",
   "execution_count": 97,
   "metadata": {},
   "outputs": [
    {
     "data": {
      "text/plain": [
       "8    0.322126\n",
       "9    0.801951\n",
       "dtype: float64"
      ]
     },
     "execution_count": 97,
     "metadata": {},
     "output_type": "execute_result"
    }
   ],
   "source": [
    "a=pd.Series(np.random.random(10))\n",
    "a.tail(2)"
   ]
  },
  {
   "cell_type": "code",
   "execution_count": 99,
   "metadata": {},
   "outputs": [
    {
     "data": {
      "text/plain": [
       "a    0.625018\n",
       "b    0.574278\n",
       "c    0.133395\n",
       "d    0.063605\n",
       "e    0.329031\n",
       "f    0.617926\n",
       "g    0.695824\n",
       "h    0.924277\n",
       "i    0.322126\n",
       "j    0.801951\n",
       "dtype: float64"
      ]
     },
     "execution_count": 99,
     "metadata": {},
     "output_type": "execute_result"
    }
   ],
   "source": [
    "a.index=['a', 'b', 'c', 'd', 'e', 'f', 'g', 'h', 'i', 'j']\n",
    "a"
   ]
  },
  {
   "cell_type": "code",
   "execution_count": 103,
   "metadata": {},
   "outputs": [
    {
     "data": {
      "text/plain": [
       "0.5742777569427866"
      ]
     },
     "execution_count": 103,
     "metadata": {},
     "output_type": "execute_result"
    }
   ],
   "source": [
    "a.loc['b']"
   ]
  },
  {
   "cell_type": "code",
   "execution_count": 112,
   "metadata": {},
   "outputs": [
    {
     "name": "stdout",
     "output_type": "stream",
     "text": [
      "       col1     col 2      col3      col4      col5\n",
      "0  0.623597  0.727936  0.515448  0.782124  0.537512\n",
      "1  0.443783  0.521104  0.044237  0.555116  0.417890\n",
      "2  0.093525  0.844919  0.427593  0.839159  0.646522\n",
      "3  0.322583  0.844426  0.473474  0.648880  0.262202\n",
      "4  0.585593  0.489526  0.861983  0.996620  0.044703\n",
      "5  0.169637  0.553899  0.837948  0.215745  0.141294\n",
      "6  0.913108  0.609417  0.397358  0.312517  0.338785\n",
      "7  0.982154  0.619661  0.934642  0.771665  0.113030\n",
      "8  0.790868  0.091626  0.064121  0.547573  0.165864\n",
      "9  0.260931  0.312227  0.345125  0.147600  0.863884\n"
     ]
    }
   ],
   "source": [
    "columnas=['col1', 'col 2', 'col3', 'col4', 'col5']\n",
    "df=pd.DataFrame(np.random.random((10,5)), columns=columnas)\n",
    "print (df)"
   ]
  },
  {
   "cell_type": "code",
   "execution_count": 113,
   "metadata": {},
   "outputs": [
    {
     "data": {
      "text/plain": [
       "0    0.727936\n",
       "1    0.521104\n",
       "2    0.844919\n",
       "3    0.844426\n",
       "4    0.489526\n",
       "5    0.553899\n",
       "6    0.609417\n",
       "7    0.619661\n",
       "8    0.091626\n",
       "9    0.312227\n",
       "Name: col 2, dtype: float64"
      ]
     },
     "execution_count": 113,
     "metadata": {},
     "output_type": "execute_result"
    }
   ],
   "source": [
    "df['col 2']"
   ]
  },
  {
   "cell_type": "code",
   "execution_count": 117,
   "metadata": {},
   "outputs": [
    {
     "data": {
      "text/plain": [
       "0    0.623597\n",
       "1    0.443783\n",
       "2    0.093525\n",
       "3    0.322583\n",
       "4    0.585593\n",
       "5    0.169637\n",
       "6    0.913108\n",
       "7    0.982154\n",
       "8    0.790868\n",
       "9    0.260931\n",
       "Name: col1, dtype: float64"
      ]
     },
     "execution_count": 117,
     "metadata": {},
     "output_type": "execute_result"
    }
   ],
   "source": [
    "df.col1"
   ]
  },
  {
   "cell_type": "code",
   "execution_count": 118,
   "metadata": {},
   "outputs": [
    {
     "data": {
      "text/html": [
       "<div>\n",
       "<style scoped>\n",
       "    .dataframe tbody tr th:only-of-type {\n",
       "        vertical-align: middle;\n",
       "    }\n",
       "\n",
       "    .dataframe tbody tr th {\n",
       "        vertical-align: top;\n",
       "    }\n",
       "\n",
       "    .dataframe thead th {\n",
       "        text-align: right;\n",
       "    }\n",
       "</style>\n",
       "<table border=\"1\" class=\"dataframe\">\n",
       "  <thead>\n",
       "    <tr style=\"text-align: right;\">\n",
       "      <th></th>\n",
       "      <th>col1</th>\n",
       "      <th>col3</th>\n",
       "    </tr>\n",
       "  </thead>\n",
       "  <tbody>\n",
       "    <tr>\n",
       "      <th>0</th>\n",
       "      <td>0.623597</td>\n",
       "      <td>0.515448</td>\n",
       "    </tr>\n",
       "    <tr>\n",
       "      <th>1</th>\n",
       "      <td>0.443783</td>\n",
       "      <td>0.044237</td>\n",
       "    </tr>\n",
       "    <tr>\n",
       "      <th>2</th>\n",
       "      <td>0.093525</td>\n",
       "      <td>0.427593</td>\n",
       "    </tr>\n",
       "    <tr>\n",
       "      <th>3</th>\n",
       "      <td>0.322583</td>\n",
       "      <td>0.473474</td>\n",
       "    </tr>\n",
       "    <tr>\n",
       "      <th>4</th>\n",
       "      <td>0.585593</td>\n",
       "      <td>0.861983</td>\n",
       "    </tr>\n",
       "    <tr>\n",
       "      <th>5</th>\n",
       "      <td>0.169637</td>\n",
       "      <td>0.837948</td>\n",
       "    </tr>\n",
       "    <tr>\n",
       "      <th>6</th>\n",
       "      <td>0.913108</td>\n",
       "      <td>0.397358</td>\n",
       "    </tr>\n",
       "    <tr>\n",
       "      <th>7</th>\n",
       "      <td>0.982154</td>\n",
       "      <td>0.934642</td>\n",
       "    </tr>\n",
       "    <tr>\n",
       "      <th>8</th>\n",
       "      <td>0.790868</td>\n",
       "      <td>0.064121</td>\n",
       "    </tr>\n",
       "    <tr>\n",
       "      <th>9</th>\n",
       "      <td>0.260931</td>\n",
       "      <td>0.345125</td>\n",
       "    </tr>\n",
       "  </tbody>\n",
       "</table>\n",
       "</div>"
      ],
      "text/plain": [
       "       col1      col3\n",
       "0  0.623597  0.515448\n",
       "1  0.443783  0.044237\n",
       "2  0.093525  0.427593\n",
       "3  0.322583  0.473474\n",
       "4  0.585593  0.861983\n",
       "5  0.169637  0.837948\n",
       "6  0.913108  0.397358\n",
       "7  0.982154  0.934642\n",
       "8  0.790868  0.064121\n",
       "9  0.260931  0.345125"
      ]
     },
     "execution_count": 118,
     "metadata": {},
     "output_type": "execute_result"
    }
   ],
   "source": [
    "df[['col1', 'col3']]"
   ]
  },
  {
   "cell_type": "code",
   "execution_count": 119,
   "metadata": {},
   "outputs": [
    {
     "data": {
      "text/html": [
       "<div>\n",
       "<style scoped>\n",
       "    .dataframe tbody tr th:only-of-type {\n",
       "        vertical-align: middle;\n",
       "    }\n",
       "\n",
       "    .dataframe tbody tr th {\n",
       "        vertical-align: top;\n",
       "    }\n",
       "\n",
       "    .dataframe thead th {\n",
       "        text-align: right;\n",
       "    }\n",
       "</style>\n",
       "<table border=\"1\" class=\"dataframe\">\n",
       "  <thead>\n",
       "    <tr style=\"text-align: right;\">\n",
       "      <th></th>\n",
       "      <th>col1</th>\n",
       "      <th>col 2</th>\n",
       "      <th>col3</th>\n",
       "      <th>col4</th>\n",
       "      <th>col5</th>\n",
       "      <th>col10</th>\n",
       "    </tr>\n",
       "  </thead>\n",
       "  <tbody>\n",
       "    <tr>\n",
       "      <th>0</th>\n",
       "      <td>0.623597</td>\n",
       "      <td>0.727936</td>\n",
       "      <td>0.515448</td>\n",
       "      <td>0.782124</td>\n",
       "      <td>0.537512</td>\n",
       "      <td>-0.460692</td>\n",
       "    </tr>\n",
       "    <tr>\n",
       "      <th>1</th>\n",
       "      <td>0.443783</td>\n",
       "      <td>0.521104</td>\n",
       "      <td>0.044237</td>\n",
       "      <td>0.555116</td>\n",
       "      <td>0.417890</td>\n",
       "      <td>-0.535484</td>\n",
       "    </tr>\n",
       "    <tr>\n",
       "      <th>2</th>\n",
       "      <td>0.093525</td>\n",
       "      <td>0.844919</td>\n",
       "      <td>0.427593</td>\n",
       "      <td>0.839159</td>\n",
       "      <td>0.646522</td>\n",
       "      <td>-0.799168</td>\n",
       "    </tr>\n",
       "    <tr>\n",
       "      <th>3</th>\n",
       "      <td>0.322583</td>\n",
       "      <td>0.844426</td>\n",
       "      <td>0.473474</td>\n",
       "      <td>0.648880</td>\n",
       "      <td>0.262202</td>\n",
       "      <td>-0.496145</td>\n",
       "    </tr>\n",
       "    <tr>\n",
       "      <th>4</th>\n",
       "      <td>0.585593</td>\n",
       "      <td>0.489526</td>\n",
       "      <td>0.861983</td>\n",
       "      <td>0.996620</td>\n",
       "      <td>0.044703</td>\n",
       "      <td>-0.491848</td>\n",
       "    </tr>\n",
       "    <tr>\n",
       "      <th>5</th>\n",
       "      <td>0.169637</td>\n",
       "      <td>0.553899</td>\n",
       "      <td>0.837948</td>\n",
       "      <td>0.215745</td>\n",
       "      <td>0.141294</td>\n",
       "      <td>-0.073598</td>\n",
       "    </tr>\n",
       "    <tr>\n",
       "      <th>6</th>\n",
       "      <td>0.913108</td>\n",
       "      <td>0.609417</td>\n",
       "      <td>0.397358</td>\n",
       "      <td>0.312517</td>\n",
       "      <td>0.338785</td>\n",
       "      <td>0.050314</td>\n",
       "    </tr>\n",
       "    <tr>\n",
       "      <th>7</th>\n",
       "      <td>0.982154</td>\n",
       "      <td>0.619661</td>\n",
       "      <td>0.934642</td>\n",
       "      <td>0.771665</td>\n",
       "      <td>0.113030</td>\n",
       "      <td>0.146298</td>\n",
       "    </tr>\n",
       "    <tr>\n",
       "      <th>8</th>\n",
       "      <td>0.790868</td>\n",
       "      <td>0.091626</td>\n",
       "      <td>0.064121</td>\n",
       "      <td>0.547573</td>\n",
       "      <td>0.165864</td>\n",
       "      <td>-0.496862</td>\n",
       "    </tr>\n",
       "    <tr>\n",
       "      <th>9</th>\n",
       "      <td>0.260931</td>\n",
       "      <td>0.312227</td>\n",
       "      <td>0.345125</td>\n",
       "      <td>0.147600</td>\n",
       "      <td>0.863884</td>\n",
       "      <td>-0.057546</td>\n",
       "    </tr>\n",
       "  </tbody>\n",
       "</table>\n",
       "</div>"
      ],
      "text/plain": [
       "       col1     col 2      col3      col4      col5     col10\n",
       "0  0.623597  0.727936  0.515448  0.782124  0.537512 -0.460692\n",
       "1  0.443783  0.521104  0.044237  0.555116  0.417890 -0.535484\n",
       "2  0.093525  0.844919  0.427593  0.839159  0.646522 -0.799168\n",
       "3  0.322583  0.844426  0.473474  0.648880  0.262202 -0.496145\n",
       "4  0.585593  0.489526  0.861983  0.996620  0.044703 -0.491848\n",
       "5  0.169637  0.553899  0.837948  0.215745  0.141294 -0.073598\n",
       "6  0.913108  0.609417  0.397358  0.312517  0.338785  0.050314\n",
       "7  0.982154  0.619661  0.934642  0.771665  0.113030  0.146298\n",
       "8  0.790868  0.091626  0.064121  0.547573  0.165864 -0.496862\n",
       "9  0.260931  0.312227  0.345125  0.147600  0.863884 -0.057546"
      ]
     },
     "execution_count": 119,
     "metadata": {},
     "output_type": "execute_result"
    }
   ],
   "source": [
    "df['col10']=df.col1*df.col3-df.col4\n",
    "df"
   ]
  },
  {
   "cell_type": "code",
   "execution_count": 120,
   "metadata": {},
   "outputs": [
    {
     "data": {
      "text/html": [
       "<div>\n",
       "<style scoped>\n",
       "    .dataframe tbody tr th:only-of-type {\n",
       "        vertical-align: middle;\n",
       "    }\n",
       "\n",
       "    .dataframe tbody tr th {\n",
       "        vertical-align: top;\n",
       "    }\n",
       "\n",
       "    .dataframe thead th {\n",
       "        text-align: right;\n",
       "    }\n",
       "</style>\n",
       "<table border=\"1\" class=\"dataframe\">\n",
       "  <thead>\n",
       "    <tr style=\"text-align: right;\">\n",
       "      <th></th>\n",
       "      <th>col1</th>\n",
       "      <th>col 2</th>\n",
       "      <th>col3</th>\n",
       "      <th>col4</th>\n",
       "      <th>col5</th>\n",
       "      <th>col10</th>\n",
       "    </tr>\n",
       "  </thead>\n",
       "  <tbody>\n",
       "    <tr>\n",
       "      <th>0</th>\n",
       "      <td>0.623597</td>\n",
       "      <td>0.727936</td>\n",
       "      <td>0.515448</td>\n",
       "      <td>0.782124</td>\n",
       "      <td>0.537512</td>\n",
       "      <td>0.427691</td>\n",
       "    </tr>\n",
       "    <tr>\n",
       "      <th>1</th>\n",
       "      <td>0.443783</td>\n",
       "      <td>0.521104</td>\n",
       "      <td>0.044237</td>\n",
       "      <td>0.555116</td>\n",
       "      <td>0.417890</td>\n",
       "      <td>9.476867</td>\n",
       "    </tr>\n",
       "    <tr>\n",
       "      <th>2</th>\n",
       "      <td>0.093525</td>\n",
       "      <td>0.844919</td>\n",
       "      <td>0.427593</td>\n",
       "      <td>0.839159</td>\n",
       "      <td>0.646522</td>\n",
       "      <td>-0.620434</td>\n",
       "    </tr>\n",
       "    <tr>\n",
       "      <th>3</th>\n",
       "      <td>0.322583</td>\n",
       "      <td>0.844426</td>\n",
       "      <td>0.473474</td>\n",
       "      <td>0.648880</td>\n",
       "      <td>0.262202</td>\n",
       "      <td>0.032431</td>\n",
       "    </tr>\n",
       "    <tr>\n",
       "      <th>4</th>\n",
       "      <td>0.585593</td>\n",
       "      <td>0.489526</td>\n",
       "      <td>0.861983</td>\n",
       "      <td>0.996620</td>\n",
       "      <td>0.044703</td>\n",
       "      <td>-0.317264</td>\n",
       "    </tr>\n",
       "    <tr>\n",
       "      <th>5</th>\n",
       "      <td>0.169637</td>\n",
       "      <td>0.553899</td>\n",
       "      <td>0.837948</td>\n",
       "      <td>0.215745</td>\n",
       "      <td>0.141294</td>\n",
       "      <td>-0.013302</td>\n",
       "    </tr>\n",
       "    <tr>\n",
       "      <th>6</th>\n",
       "      <td>0.913108</td>\n",
       "      <td>0.609417</td>\n",
       "      <td>0.397358</td>\n",
       "      <td>0.312517</td>\n",
       "      <td>0.338785</td>\n",
       "      <td>1.985431</td>\n",
       "    </tr>\n",
       "    <tr>\n",
       "      <th>7</th>\n",
       "      <td>0.982154</td>\n",
       "      <td>0.619661</td>\n",
       "      <td>0.934642</td>\n",
       "      <td>0.771665</td>\n",
       "      <td>0.113030</td>\n",
       "      <td>0.279170</td>\n",
       "    </tr>\n",
       "    <tr>\n",
       "      <th>8</th>\n",
       "      <td>0.790868</td>\n",
       "      <td>0.091626</td>\n",
       "      <td>0.064121</td>\n",
       "      <td>0.547573</td>\n",
       "      <td>0.165864</td>\n",
       "      <td>11.786453</td>\n",
       "    </tr>\n",
       "    <tr>\n",
       "      <th>9</th>\n",
       "      <td>0.260931</td>\n",
       "      <td>0.312227</td>\n",
       "      <td>0.345125</td>\n",
       "      <td>0.147600</td>\n",
       "      <td>0.863884</td>\n",
       "      <td>0.608447</td>\n",
       "    </tr>\n",
       "  </tbody>\n",
       "</table>\n",
       "</div>"
      ],
      "text/plain": [
       "       col1     col 2      col3      col4      col5      col10\n",
       "0  0.623597  0.727936  0.515448  0.782124  0.537512   0.427691\n",
       "1  0.443783  0.521104  0.044237  0.555116  0.417890   9.476867\n",
       "2  0.093525  0.844919  0.427593  0.839159  0.646522  -0.620434\n",
       "3  0.322583  0.844426  0.473474  0.648880  0.262202   0.032431\n",
       "4  0.585593  0.489526  0.861983  0.996620  0.044703  -0.317264\n",
       "5  0.169637  0.553899  0.837948  0.215745  0.141294  -0.013302\n",
       "6  0.913108  0.609417  0.397358  0.312517  0.338785   1.985431\n",
       "7  0.982154  0.619661  0.934642  0.771665  0.113030   0.279170\n",
       "8  0.790868  0.091626  0.064121  0.547573  0.165864  11.786453\n",
       "9  0.260931  0.312227  0.345125  0.147600  0.863884   0.608447"
      ]
     },
     "execution_count": 120,
     "metadata": {},
     "output_type": "execute_result"
    }
   ],
   "source": [
    "df.col10=df.col1/df.col3-df.col4\n",
    "df"
   ]
  },
  {
   "cell_type": "code",
   "execution_count": 132,
   "metadata": {},
   "outputs": [
    {
     "data": {
      "text/html": [
       "<div>\n",
       "<style scoped>\n",
       "    .dataframe tbody tr th:only-of-type {\n",
       "        vertical-align: middle;\n",
       "    }\n",
       "\n",
       "    .dataframe tbody tr th {\n",
       "        vertical-align: top;\n",
       "    }\n",
       "\n",
       "    .dataframe thead th {\n",
       "        text-align: right;\n",
       "    }\n",
       "</style>\n",
       "<table border=\"1\" class=\"dataframe\">\n",
       "  <thead>\n",
       "    <tr style=\"text-align: right;\">\n",
       "      <th></th>\n",
       "      <th>Price</th>\n",
       "    </tr>\n",
       "  </thead>\n",
       "  <tbody>\n",
       "    <tr>\n",
       "      <th>0</th>\n",
       "      <td>9280.0</td>\n",
       "    </tr>\n",
       "    <tr>\n",
       "      <th>1</th>\n",
       "      <td>239489032.0</td>\n",
       "    </tr>\n",
       "    <tr>\n",
       "      <th>2</th>\n",
       "      <td>239840.0</td>\n",
       "    </tr>\n",
       "    <tr>\n",
       "      <th>3</th>\n",
       "      <td>293487.0</td>\n",
       "    </tr>\n",
       "    <tr>\n",
       "      <th>4</th>\n",
       "      <td>9280.0</td>\n",
       "    </tr>\n",
       "    <tr>\n",
       "      <th>5</th>\n",
       "      <td>239489032.0</td>\n",
       "    </tr>\n",
       "    <tr>\n",
       "      <th>6</th>\n",
       "      <td>239840.0</td>\n",
       "    </tr>\n",
       "    <tr>\n",
       "      <th>7</th>\n",
       "      <td>293487.0</td>\n",
       "    </tr>\n",
       "    <tr>\n",
       "      <th>8</th>\n",
       "      <td>NaN</td>\n",
       "    </tr>\n",
       "    <tr>\n",
       "      <th>9</th>\n",
       "      <td>NaN</td>\n",
       "    </tr>\n",
       "  </tbody>\n",
       "</table>\n",
       "</div>"
      ],
      "text/plain": [
       "         Price\n",
       "0       9280.0\n",
       "1  239489032.0\n",
       "2     239840.0\n",
       "3     293487.0\n",
       "4       9280.0\n",
       "5  239489032.0\n",
       "6     239840.0\n",
       "7     293487.0\n",
       "8          NaN\n",
       "9          NaN"
      ]
     },
     "execution_count": 132,
     "metadata": {},
     "output_type": "execute_result"
    }
   ],
   "source": [
    "lst=[9280, 239489032, 239840, 293487,9280, 239489032, 239840, 293487, None, None]\n",
    "price_df=pd.DataFrame(lst, columns=['Price'])\n",
    "price_df"
   ]
  },
  {
   "cell_type": "code",
   "execution_count": 133,
   "metadata": {},
   "outputs": [
    {
     "data": {
      "text/html": [
       "<div>\n",
       "<style scoped>\n",
       "    .dataframe tbody tr th:only-of-type {\n",
       "        vertical-align: middle;\n",
       "    }\n",
       "\n",
       "    .dataframe tbody tr th {\n",
       "        vertical-align: top;\n",
       "    }\n",
       "\n",
       "    .dataframe thead th {\n",
       "        text-align: right;\n",
       "    }\n",
       "</style>\n",
       "<table border=\"1\" class=\"dataframe\">\n",
       "  <thead>\n",
       "    <tr style=\"text-align: right;\">\n",
       "      <th></th>\n",
       "      <th>col1</th>\n",
       "      <th>col 2</th>\n",
       "      <th>col3</th>\n",
       "      <th>col4</th>\n",
       "      <th>col5</th>\n",
       "      <th>col10</th>\n",
       "      <th>lista</th>\n",
       "    </tr>\n",
       "  </thead>\n",
       "  <tbody>\n",
       "    <tr>\n",
       "      <th>0</th>\n",
       "      <td>0.623597</td>\n",
       "      <td>0.727936</td>\n",
       "      <td>0.515448</td>\n",
       "      <td>0.782124</td>\n",
       "      <td>0.537512</td>\n",
       "      <td>0.427691</td>\n",
       "      <td>9280.0</td>\n",
       "    </tr>\n",
       "    <tr>\n",
       "      <th>1</th>\n",
       "      <td>0.443783</td>\n",
       "      <td>0.521104</td>\n",
       "      <td>0.044237</td>\n",
       "      <td>0.555116</td>\n",
       "      <td>0.417890</td>\n",
       "      <td>9.476867</td>\n",
       "      <td>239489032.0</td>\n",
       "    </tr>\n",
       "    <tr>\n",
       "      <th>2</th>\n",
       "      <td>0.093525</td>\n",
       "      <td>0.844919</td>\n",
       "      <td>0.427593</td>\n",
       "      <td>0.839159</td>\n",
       "      <td>0.646522</td>\n",
       "      <td>-0.620434</td>\n",
       "      <td>239840.0</td>\n",
       "    </tr>\n",
       "    <tr>\n",
       "      <th>3</th>\n",
       "      <td>0.322583</td>\n",
       "      <td>0.844426</td>\n",
       "      <td>0.473474</td>\n",
       "      <td>0.648880</td>\n",
       "      <td>0.262202</td>\n",
       "      <td>0.032431</td>\n",
       "      <td>293487.0</td>\n",
       "    </tr>\n",
       "    <tr>\n",
       "      <th>4</th>\n",
       "      <td>0.585593</td>\n",
       "      <td>0.489526</td>\n",
       "      <td>0.861983</td>\n",
       "      <td>0.996620</td>\n",
       "      <td>0.044703</td>\n",
       "      <td>-0.317264</td>\n",
       "      <td>9280.0</td>\n",
       "    </tr>\n",
       "    <tr>\n",
       "      <th>5</th>\n",
       "      <td>0.169637</td>\n",
       "      <td>0.553899</td>\n",
       "      <td>0.837948</td>\n",
       "      <td>0.215745</td>\n",
       "      <td>0.141294</td>\n",
       "      <td>-0.013302</td>\n",
       "      <td>239489032.0</td>\n",
       "    </tr>\n",
       "    <tr>\n",
       "      <th>6</th>\n",
       "      <td>0.913108</td>\n",
       "      <td>0.609417</td>\n",
       "      <td>0.397358</td>\n",
       "      <td>0.312517</td>\n",
       "      <td>0.338785</td>\n",
       "      <td>1.985431</td>\n",
       "      <td>239840.0</td>\n",
       "    </tr>\n",
       "    <tr>\n",
       "      <th>7</th>\n",
       "      <td>0.982154</td>\n",
       "      <td>0.619661</td>\n",
       "      <td>0.934642</td>\n",
       "      <td>0.771665</td>\n",
       "      <td>0.113030</td>\n",
       "      <td>0.279170</td>\n",
       "      <td>293487.0</td>\n",
       "    </tr>\n",
       "    <tr>\n",
       "      <th>8</th>\n",
       "      <td>0.790868</td>\n",
       "      <td>0.091626</td>\n",
       "      <td>0.064121</td>\n",
       "      <td>0.547573</td>\n",
       "      <td>0.165864</td>\n",
       "      <td>11.786453</td>\n",
       "      <td>NaN</td>\n",
       "    </tr>\n",
       "    <tr>\n",
       "      <th>9</th>\n",
       "      <td>0.260931</td>\n",
       "      <td>0.312227</td>\n",
       "      <td>0.345125</td>\n",
       "      <td>0.147600</td>\n",
       "      <td>0.863884</td>\n",
       "      <td>0.608447</td>\n",
       "      <td>NaN</td>\n",
       "    </tr>\n",
       "  </tbody>\n",
       "</table>\n",
       "</div>"
      ],
      "text/plain": [
       "       col1     col 2      col3      col4      col5      col10        lista\n",
       "0  0.623597  0.727936  0.515448  0.782124  0.537512   0.427691       9280.0\n",
       "1  0.443783  0.521104  0.044237  0.555116  0.417890   9.476867  239489032.0\n",
       "2  0.093525  0.844919  0.427593  0.839159  0.646522  -0.620434     239840.0\n",
       "3  0.322583  0.844426  0.473474  0.648880  0.262202   0.032431     293487.0\n",
       "4  0.585593  0.489526  0.861983  0.996620  0.044703  -0.317264       9280.0\n",
       "5  0.169637  0.553899  0.837948  0.215745  0.141294  -0.013302  239489032.0\n",
       "6  0.913108  0.609417  0.397358  0.312517  0.338785   1.985431     239840.0\n",
       "7  0.982154  0.619661  0.934642  0.771665  0.113030   0.279170     293487.0\n",
       "8  0.790868  0.091626  0.064121  0.547573  0.165864  11.786453          NaN\n",
       "9  0.260931  0.312227  0.345125  0.147600  0.863884   0.608447          NaN"
      ]
     },
     "execution_count": 133,
     "metadata": {},
     "output_type": "execute_result"
    }
   ],
   "source": [
    "df['lista']=lst\n",
    "df"
   ]
  },
  {
   "cell_type": "code",
   "execution_count": 134,
   "metadata": {},
   "outputs": [
    {
     "data": {
      "text/plain": [
       "col1     float64\n",
       "col 2    float64\n",
       "col3     float64\n",
       "col4     float64\n",
       "col5     float64\n",
       "col10    float64\n",
       "lista    float64\n",
       "dtype: object"
      ]
     },
     "execution_count": 134,
     "metadata": {},
     "output_type": "execute_result"
    }
   ],
   "source": [
    "df.dtypes"
   ]
  },
  {
   "cell_type": "code",
   "execution_count": 136,
   "metadata": {},
   "outputs": [
    {
     "data": {
      "text/html": [
       "<div>\n",
       "<style scoped>\n",
       "    .dataframe tbody tr th:only-of-type {\n",
       "        vertical-align: middle;\n",
       "    }\n",
       "\n",
       "    .dataframe tbody tr th {\n",
       "        vertical-align: top;\n",
       "    }\n",
       "\n",
       "    .dataframe thead th {\n",
       "        text-align: right;\n",
       "    }\n",
       "</style>\n",
       "<table border=\"1\" class=\"dataframe\">\n",
       "  <thead>\n",
       "    <tr style=\"text-align: right;\">\n",
       "      <th></th>\n",
       "      <th>col1</th>\n",
       "      <th>col 2</th>\n",
       "      <th>col3</th>\n",
       "      <th>col4</th>\n",
       "      <th>col5</th>\n",
       "      <th>col10</th>\n",
       "      <th>lista</th>\n",
       "    </tr>\n",
       "  </thead>\n",
       "  <tbody>\n",
       "    <tr>\n",
       "      <th>0</th>\n",
       "      <td>0.623597</td>\n",
       "      <td>0.727936</td>\n",
       "      <td>0.515448</td>\n",
       "      <td>0.782124</td>\n",
       "      <td>0.537512</td>\n",
       "      <td>0.427691</td>\n",
       "      <td>9280</td>\n",
       "    </tr>\n",
       "    <tr>\n",
       "      <th>1</th>\n",
       "      <td>0.443783</td>\n",
       "      <td>0.521104</td>\n",
       "      <td>0.044237</td>\n",
       "      <td>0.555116</td>\n",
       "      <td>0.417890</td>\n",
       "      <td>9.476867</td>\n",
       "      <td>2.39489e+08</td>\n",
       "    </tr>\n",
       "    <tr>\n",
       "      <th>2</th>\n",
       "      <td>0.093525</td>\n",
       "      <td>0.844919</td>\n",
       "      <td>0.427593</td>\n",
       "      <td>0.839159</td>\n",
       "      <td>0.646522</td>\n",
       "      <td>-0.620434</td>\n",
       "      <td>239840</td>\n",
       "    </tr>\n",
       "    <tr>\n",
       "      <th>3</th>\n",
       "      <td>0.322583</td>\n",
       "      <td>0.844426</td>\n",
       "      <td>0.473474</td>\n",
       "      <td>0.648880</td>\n",
       "      <td>0.262202</td>\n",
       "      <td>0.032431</td>\n",
       "      <td>293487</td>\n",
       "    </tr>\n",
       "    <tr>\n",
       "      <th>4</th>\n",
       "      <td>0.585593</td>\n",
       "      <td>0.489526</td>\n",
       "      <td>0.861983</td>\n",
       "      <td>0.996620</td>\n",
       "      <td>0.044703</td>\n",
       "      <td>-0.317264</td>\n",
       "      <td>9280</td>\n",
       "    </tr>\n",
       "    <tr>\n",
       "      <th>5</th>\n",
       "      <td>0.169637</td>\n",
       "      <td>0.553899</td>\n",
       "      <td>0.837948</td>\n",
       "      <td>0.215745</td>\n",
       "      <td>0.141294</td>\n",
       "      <td>-0.013302</td>\n",
       "      <td>2.39489e+08</td>\n",
       "    </tr>\n",
       "    <tr>\n",
       "      <th>6</th>\n",
       "      <td>0.913108</td>\n",
       "      <td>0.609417</td>\n",
       "      <td>0.397358</td>\n",
       "      <td>0.312517</td>\n",
       "      <td>0.338785</td>\n",
       "      <td>1.985431</td>\n",
       "      <td>239840</td>\n",
       "    </tr>\n",
       "    <tr>\n",
       "      <th>7</th>\n",
       "      <td>0.982154</td>\n",
       "      <td>0.619661</td>\n",
       "      <td>0.934642</td>\n",
       "      <td>0.771665</td>\n",
       "      <td>0.113030</td>\n",
       "      <td>0.279170</td>\n",
       "      <td>293487</td>\n",
       "    </tr>\n",
       "    <tr>\n",
       "      <th>8</th>\n",
       "      <td>0.790868</td>\n",
       "      <td>0.091626</td>\n",
       "      <td>0.064121</td>\n",
       "      <td>0.547573</td>\n",
       "      <td>0.165864</td>\n",
       "      <td>11.786453</td>\n",
       "      <td>hola</td>\n",
       "    </tr>\n",
       "    <tr>\n",
       "      <th>9</th>\n",
       "      <td>0.260931</td>\n",
       "      <td>0.312227</td>\n",
       "      <td>0.345125</td>\n",
       "      <td>0.147600</td>\n",
       "      <td>0.863884</td>\n",
       "      <td>0.608447</td>\n",
       "      <td>hola</td>\n",
       "    </tr>\n",
       "  </tbody>\n",
       "</table>\n",
       "</div>"
      ],
      "text/plain": [
       "       col1     col 2      col3      col4      col5      col10        lista\n",
       "0  0.623597  0.727936  0.515448  0.782124  0.537512   0.427691         9280\n",
       "1  0.443783  0.521104  0.044237  0.555116  0.417890   9.476867  2.39489e+08\n",
       "2  0.093525  0.844919  0.427593  0.839159  0.646522  -0.620434       239840\n",
       "3  0.322583  0.844426  0.473474  0.648880  0.262202   0.032431       293487\n",
       "4  0.585593  0.489526  0.861983  0.996620  0.044703  -0.317264         9280\n",
       "5  0.169637  0.553899  0.837948  0.215745  0.141294  -0.013302  2.39489e+08\n",
       "6  0.913108  0.609417  0.397358  0.312517  0.338785   1.985431       239840\n",
       "7  0.982154  0.619661  0.934642  0.771665  0.113030   0.279170       293487\n",
       "8  0.790868  0.091626  0.064121  0.547573  0.165864  11.786453         hola\n",
       "9  0.260931  0.312227  0.345125  0.147600  0.863884   0.608447         hola"
      ]
     },
     "execution_count": 136,
     "metadata": {},
     "output_type": "execute_result"
    }
   ],
   "source": [
    "df.fillna('hola')"
   ]
  },
  {
   "cell_type": "code",
   "execution_count": 139,
   "metadata": {},
   "outputs": [
    {
     "data": {
      "text/html": [
       "<div>\n",
       "<style scoped>\n",
       "    .dataframe tbody tr th:only-of-type {\n",
       "        vertical-align: middle;\n",
       "    }\n",
       "\n",
       "    .dataframe tbody tr th {\n",
       "        vertical-align: top;\n",
       "    }\n",
       "\n",
       "    .dataframe thead th {\n",
       "        text-align: right;\n",
       "    }\n",
       "</style>\n",
       "<table border=\"1\" class=\"dataframe\">\n",
       "  <thead>\n",
       "    <tr style=\"text-align: right;\">\n",
       "      <th></th>\n",
       "      <th>lote</th>\n",
       "      <th>barrio</th>\n",
       "      <th>año</th>\n",
       "      <th>n</th>\n",
       "      <th>P</th>\n",
       "    </tr>\n",
       "  </thead>\n",
       "  <tbody>\n",
       "    <tr>\n",
       "      <th>0</th>\n",
       "      <td>8456</td>\n",
       "      <td>Roma N</td>\n",
       "      <td>2003</td>\n",
       "      <td>7</td>\n",
       "      <td>20400</td>\n",
       "    </tr>\n",
       "    <tr>\n",
       "      <th>1</th>\n",
       "      <td>84564</td>\n",
       "      <td>Roma S</td>\n",
       "      <td>2013</td>\n",
       "      <td>9</td>\n",
       "      <td>2400</td>\n",
       "    </tr>\n",
       "    <tr>\n",
       "      <th>2</th>\n",
       "      <td>83216</td>\n",
       "      <td>Juarez</td>\n",
       "      <td>2005</td>\n",
       "      <td>6</td>\n",
       "      <td>200</td>\n",
       "    </tr>\n",
       "    <tr>\n",
       "      <th>3</th>\n",
       "      <td>234556</td>\n",
       "      <td>Condesa</td>\n",
       "      <td>2008</td>\n",
       "      <td>10</td>\n",
       "      <td>400</td>\n",
       "    </tr>\n",
       "  </tbody>\n",
       "</table>\n",
       "</div>"
      ],
      "text/plain": [
       "     lote   barrio   año   n      P\n",
       "0    8456   Roma N  2003   7  20400\n",
       "1   84564   Roma S  2013   9   2400\n",
       "2   83216   Juarez  2005   6    200\n",
       "3  234556  Condesa  2008  10    400"
      ]
     },
     "execution_count": 139,
     "metadata": {},
     "output_type": "execute_result"
    }
   ],
   "source": [
    "lst_lst=[[8456, 'Roma N', 2003, 7, 20400],\n",
    "         [84564, 'Roma S', 2013, 9, 2400],\n",
    "         [83216, 'Juarez', 2005, 6, 200],\n",
    "         [234556, 'Condesa', 2008, 10, 400]]\n",
    "\n",
    "columnas=['lote', 'barrio', 'año', 'n', 'P']\n",
    "\n",
    "df2=pd.DataFrame(lst_lst, columns=columnas)\n",
    "df2"
   ]
  },
  {
   "cell_type": "code",
   "execution_count": 140,
   "metadata": {},
   "outputs": [
    {
     "data": {
      "text/html": [
       "<div>\n",
       "<style scoped>\n",
       "    .dataframe tbody tr th:only-of-type {\n",
       "        vertical-align: middle;\n",
       "    }\n",
       "\n",
       "    .dataframe tbody tr th {\n",
       "        vertical-align: top;\n",
       "    }\n",
       "\n",
       "    .dataframe thead th {\n",
       "        text-align: right;\n",
       "    }\n",
       "</style>\n",
       "<table border=\"1\" class=\"dataframe\">\n",
       "  <thead>\n",
       "    <tr style=\"text-align: right;\">\n",
       "      <th></th>\n",
       "      <th>CasaA</th>\n",
       "      <th>CasaB</th>\n",
       "      <th>CasaC</th>\n",
       "    </tr>\n",
       "  </thead>\n",
       "  <tbody>\n",
       "    <tr>\n",
       "      <th>0</th>\n",
       "      <td>8456</td>\n",
       "      <td>84564</td>\n",
       "      <td>83216</td>\n",
       "    </tr>\n",
       "    <tr>\n",
       "      <th>1</th>\n",
       "      <td>Roma N</td>\n",
       "      <td>Roma S</td>\n",
       "      <td>Juarez</td>\n",
       "    </tr>\n",
       "    <tr>\n",
       "      <th>2</th>\n",
       "      <td>2003</td>\n",
       "      <td>2013</td>\n",
       "      <td>2005</td>\n",
       "    </tr>\n",
       "    <tr>\n",
       "      <th>3</th>\n",
       "      <td>7</td>\n",
       "      <td>9</td>\n",
       "      <td>6</td>\n",
       "    </tr>\n",
       "    <tr>\n",
       "      <th>4</th>\n",
       "      <td>20400</td>\n",
       "      <td>2400</td>\n",
       "      <td>200</td>\n",
       "    </tr>\n",
       "  </tbody>\n",
       "</table>\n",
       "</div>"
      ],
      "text/plain": [
       "    CasaA   CasaB   CasaC\n",
       "0    8456   84564   83216\n",
       "1  Roma N  Roma S  Juarez\n",
       "2    2003    2013    2005\n",
       "3       7       9       6\n",
       "4   20400    2400     200"
      ]
     },
     "execution_count": 140,
     "metadata": {},
     "output_type": "execute_result"
    }
   ],
   "source": [
    "dictio={'CasaA':lst_lst[0],'CasaB':lst_lst[1],'CasaC':lst_lst[2]}\n",
    "\n",
    "pd.DataFrame(dictio)"
   ]
  },
  {
   "cell_type": "code",
   "execution_count": 142,
   "metadata": {},
   "outputs": [],
   "source": [
    "df.fillna(0, inplace=True)\n",
    "#df=df.fillna(0)"
   ]
  },
  {
   "cell_type": "code",
   "execution_count": 143,
   "metadata": {},
   "outputs": [
    {
     "data": {
      "text/html": [
       "<div>\n",
       "<style scoped>\n",
       "    .dataframe tbody tr th:only-of-type {\n",
       "        vertical-align: middle;\n",
       "    }\n",
       "\n",
       "    .dataframe tbody tr th {\n",
       "        vertical-align: top;\n",
       "    }\n",
       "\n",
       "    .dataframe thead th {\n",
       "        text-align: right;\n",
       "    }\n",
       "</style>\n",
       "<table border=\"1\" class=\"dataframe\">\n",
       "  <thead>\n",
       "    <tr style=\"text-align: right;\">\n",
       "      <th></th>\n",
       "      <th>col1</th>\n",
       "      <th>col 2</th>\n",
       "      <th>col3</th>\n",
       "      <th>col4</th>\n",
       "      <th>col5</th>\n",
       "      <th>col10</th>\n",
       "      <th>lista</th>\n",
       "    </tr>\n",
       "  </thead>\n",
       "  <tbody>\n",
       "    <tr>\n",
       "      <th>0</th>\n",
       "      <td>0.623597</td>\n",
       "      <td>0.727936</td>\n",
       "      <td>0.515448</td>\n",
       "      <td>0.782124</td>\n",
       "      <td>0.537512</td>\n",
       "      <td>0.427691</td>\n",
       "      <td>9280.0</td>\n",
       "    </tr>\n",
       "    <tr>\n",
       "      <th>1</th>\n",
       "      <td>0.443783</td>\n",
       "      <td>0.521104</td>\n",
       "      <td>0.044237</td>\n",
       "      <td>0.555116</td>\n",
       "      <td>0.417890</td>\n",
       "      <td>9.476867</td>\n",
       "      <td>239489032.0</td>\n",
       "    </tr>\n",
       "    <tr>\n",
       "      <th>2</th>\n",
       "      <td>0.093525</td>\n",
       "      <td>0.844919</td>\n",
       "      <td>0.427593</td>\n",
       "      <td>0.839159</td>\n",
       "      <td>0.646522</td>\n",
       "      <td>-0.620434</td>\n",
       "      <td>239840.0</td>\n",
       "    </tr>\n",
       "    <tr>\n",
       "      <th>3</th>\n",
       "      <td>0.322583</td>\n",
       "      <td>0.844426</td>\n",
       "      <td>0.473474</td>\n",
       "      <td>0.648880</td>\n",
       "      <td>0.262202</td>\n",
       "      <td>0.032431</td>\n",
       "      <td>293487.0</td>\n",
       "    </tr>\n",
       "    <tr>\n",
       "      <th>4</th>\n",
       "      <td>0.585593</td>\n",
       "      <td>0.489526</td>\n",
       "      <td>0.861983</td>\n",
       "      <td>0.996620</td>\n",
       "      <td>0.044703</td>\n",
       "      <td>-0.317264</td>\n",
       "      <td>9280.0</td>\n",
       "    </tr>\n",
       "    <tr>\n",
       "      <th>5</th>\n",
       "      <td>0.169637</td>\n",
       "      <td>0.553899</td>\n",
       "      <td>0.837948</td>\n",
       "      <td>0.215745</td>\n",
       "      <td>0.141294</td>\n",
       "      <td>-0.013302</td>\n",
       "      <td>239489032.0</td>\n",
       "    </tr>\n",
       "    <tr>\n",
       "      <th>6</th>\n",
       "      <td>0.913108</td>\n",
       "      <td>0.609417</td>\n",
       "      <td>0.397358</td>\n",
       "      <td>0.312517</td>\n",
       "      <td>0.338785</td>\n",
       "      <td>1.985431</td>\n",
       "      <td>239840.0</td>\n",
       "    </tr>\n",
       "    <tr>\n",
       "      <th>7</th>\n",
       "      <td>0.982154</td>\n",
       "      <td>0.619661</td>\n",
       "      <td>0.934642</td>\n",
       "      <td>0.771665</td>\n",
       "      <td>0.113030</td>\n",
       "      <td>0.279170</td>\n",
       "      <td>293487.0</td>\n",
       "    </tr>\n",
       "    <tr>\n",
       "      <th>8</th>\n",
       "      <td>0.790868</td>\n",
       "      <td>0.091626</td>\n",
       "      <td>0.064121</td>\n",
       "      <td>0.547573</td>\n",
       "      <td>0.165864</td>\n",
       "      <td>11.786453</td>\n",
       "      <td>0.0</td>\n",
       "    </tr>\n",
       "    <tr>\n",
       "      <th>9</th>\n",
       "      <td>0.260931</td>\n",
       "      <td>0.312227</td>\n",
       "      <td>0.345125</td>\n",
       "      <td>0.147600</td>\n",
       "      <td>0.863884</td>\n",
       "      <td>0.608447</td>\n",
       "      <td>0.0</td>\n",
       "    </tr>\n",
       "  </tbody>\n",
       "</table>\n",
       "</div>"
      ],
      "text/plain": [
       "       col1     col 2      col3      col4      col5      col10        lista\n",
       "0  0.623597  0.727936  0.515448  0.782124  0.537512   0.427691       9280.0\n",
       "1  0.443783  0.521104  0.044237  0.555116  0.417890   9.476867  239489032.0\n",
       "2  0.093525  0.844919  0.427593  0.839159  0.646522  -0.620434     239840.0\n",
       "3  0.322583  0.844426  0.473474  0.648880  0.262202   0.032431     293487.0\n",
       "4  0.585593  0.489526  0.861983  0.996620  0.044703  -0.317264       9280.0\n",
       "5  0.169637  0.553899  0.837948  0.215745  0.141294  -0.013302  239489032.0\n",
       "6  0.913108  0.609417  0.397358  0.312517  0.338785   1.985431     239840.0\n",
       "7  0.982154  0.619661  0.934642  0.771665  0.113030   0.279170     293487.0\n",
       "8  0.790868  0.091626  0.064121  0.547573  0.165864  11.786453          0.0\n",
       "9  0.260931  0.312227  0.345125  0.147600  0.863884   0.608447          0.0"
      ]
     },
     "execution_count": 143,
     "metadata": {},
     "output_type": "execute_result"
    }
   ],
   "source": [
    "df"
   ]
  },
  {
   "cell_type": "code",
   "execution_count": 144,
   "metadata": {},
   "outputs": [
    {
     "data": {
      "text/html": [
       "<div>\n",
       "<style scoped>\n",
       "    .dataframe tbody tr th:only-of-type {\n",
       "        vertical-align: middle;\n",
       "    }\n",
       "\n",
       "    .dataframe tbody tr th {\n",
       "        vertical-align: top;\n",
       "    }\n",
       "\n",
       "    .dataframe thead th {\n",
       "        text-align: right;\n",
       "    }\n",
       "</style>\n",
       "<table border=\"1\" class=\"dataframe\">\n",
       "  <thead>\n",
       "    <tr style=\"text-align: right;\">\n",
       "      <th></th>\n",
       "      <th>0</th>\n",
       "      <th>1</th>\n",
       "      <th>2</th>\n",
       "      <th>3</th>\n",
       "      <th>4</th>\n",
       "      <th>5</th>\n",
       "      <th>6</th>\n",
       "      <th>7</th>\n",
       "      <th>8</th>\n",
       "      <th>9</th>\n",
       "    </tr>\n",
       "  </thead>\n",
       "  <tbody>\n",
       "    <tr>\n",
       "      <th>col1</th>\n",
       "      <td>0.623597</td>\n",
       "      <td>4.437834e-01</td>\n",
       "      <td>0.093525</td>\n",
       "      <td>0.322583</td>\n",
       "      <td>0.585593</td>\n",
       "      <td>1.696372e-01</td>\n",
       "      <td>0.913108</td>\n",
       "      <td>0.982154</td>\n",
       "      <td>0.790868</td>\n",
       "      <td>0.260931</td>\n",
       "    </tr>\n",
       "    <tr>\n",
       "      <th>col 2</th>\n",
       "      <td>0.727936</td>\n",
       "      <td>5.211035e-01</td>\n",
       "      <td>0.844919</td>\n",
       "      <td>0.844426</td>\n",
       "      <td>0.489526</td>\n",
       "      <td>5.538992e-01</td>\n",
       "      <td>0.609417</td>\n",
       "      <td>0.619661</td>\n",
       "      <td>0.091626</td>\n",
       "      <td>0.312227</td>\n",
       "    </tr>\n",
       "    <tr>\n",
       "      <th>col3</th>\n",
       "      <td>0.515448</td>\n",
       "      <td>4.423686e-02</td>\n",
       "      <td>0.427593</td>\n",
       "      <td>0.473474</td>\n",
       "      <td>0.861983</td>\n",
       "      <td>8.379481e-01</td>\n",
       "      <td>0.397358</td>\n",
       "      <td>0.934642</td>\n",
       "      <td>0.064121</td>\n",
       "      <td>0.345125</td>\n",
       "    </tr>\n",
       "    <tr>\n",
       "      <th>col4</th>\n",
       "      <td>0.782124</td>\n",
       "      <td>5.551157e-01</td>\n",
       "      <td>0.839159</td>\n",
       "      <td>0.648880</td>\n",
       "      <td>0.996620</td>\n",
       "      <td>2.157452e-01</td>\n",
       "      <td>0.312517</td>\n",
       "      <td>0.771665</td>\n",
       "      <td>0.547573</td>\n",
       "      <td>0.147600</td>\n",
       "    </tr>\n",
       "    <tr>\n",
       "      <th>col5</th>\n",
       "      <td>0.537512</td>\n",
       "      <td>4.178896e-01</td>\n",
       "      <td>0.646522</td>\n",
       "      <td>0.262202</td>\n",
       "      <td>0.044703</td>\n",
       "      <td>1.412938e-01</td>\n",
       "      <td>0.338785</td>\n",
       "      <td>0.113030</td>\n",
       "      <td>0.165864</td>\n",
       "      <td>0.863884</td>\n",
       "    </tr>\n",
       "    <tr>\n",
       "      <th>col10</th>\n",
       "      <td>0.427691</td>\n",
       "      <td>9.476867e+00</td>\n",
       "      <td>-0.620434</td>\n",
       "      <td>0.032431</td>\n",
       "      <td>-0.317264</td>\n",
       "      <td>-1.330165e-02</td>\n",
       "      <td>1.985431</td>\n",
       "      <td>0.279170</td>\n",
       "      <td>11.786453</td>\n",
       "      <td>0.608447</td>\n",
       "    </tr>\n",
       "    <tr>\n",
       "      <th>lista</th>\n",
       "      <td>9280.000000</td>\n",
       "      <td>2.394890e+08</td>\n",
       "      <td>239840.000000</td>\n",
       "      <td>293487.000000</td>\n",
       "      <td>9280.000000</td>\n",
       "      <td>2.394890e+08</td>\n",
       "      <td>239840.000000</td>\n",
       "      <td>293487.000000</td>\n",
       "      <td>0.000000</td>\n",
       "      <td>0.000000</td>\n",
       "    </tr>\n",
       "  </tbody>\n",
       "</table>\n",
       "</div>"
      ],
      "text/plain": [
       "                 0             1              2              3            4  \\\n",
       "col1      0.623597  4.437834e-01       0.093525       0.322583     0.585593   \n",
       "col 2     0.727936  5.211035e-01       0.844919       0.844426     0.489526   \n",
       "col3      0.515448  4.423686e-02       0.427593       0.473474     0.861983   \n",
       "col4      0.782124  5.551157e-01       0.839159       0.648880     0.996620   \n",
       "col5      0.537512  4.178896e-01       0.646522       0.262202     0.044703   \n",
       "col10     0.427691  9.476867e+00      -0.620434       0.032431    -0.317264   \n",
       "lista  9280.000000  2.394890e+08  239840.000000  293487.000000  9280.000000   \n",
       "\n",
       "                  5              6              7          8         9  \n",
       "col1   1.696372e-01       0.913108       0.982154   0.790868  0.260931  \n",
       "col 2  5.538992e-01       0.609417       0.619661   0.091626  0.312227  \n",
       "col3   8.379481e-01       0.397358       0.934642   0.064121  0.345125  \n",
       "col4   2.157452e-01       0.312517       0.771665   0.547573  0.147600  \n",
       "col5   1.412938e-01       0.338785       0.113030   0.165864  0.863884  \n",
       "col10 -1.330165e-02       1.985431       0.279170  11.786453  0.608447  \n",
       "lista  2.394890e+08  239840.000000  293487.000000   0.000000  0.000000  "
      ]
     },
     "execution_count": 144,
     "metadata": {},
     "output_type": "execute_result"
    }
   ],
   "source": [
    "df.T"
   ]
  },
  {
   "cell_type": "code",
   "execution_count": 145,
   "metadata": {},
   "outputs": [
    {
     "data": {
      "text/plain": [
       "col1     5.185780e+00\n",
       "col 2    5.614741e+00\n",
       "col3     4.901929e+00\n",
       "col4     5.816998e+00\n",
       "col5     3.531685e+00\n",
       "col10    2.364549e+01\n",
       "lista    4.800633e+08\n",
       "dtype: float64"
      ]
     },
     "execution_count": 145,
     "metadata": {},
     "output_type": "execute_result"
    }
   ],
   "source": [
    "df.sum()"
   ]
  },
  {
   "cell_type": "code",
   "execution_count": 146,
   "metadata": {},
   "outputs": [
    {
     "data": {
      "text/plain": [
       "col1     9.821544e-01\n",
       "col 2    8.449193e-01\n",
       "col3     9.346418e-01\n",
       "col4     9.966200e-01\n",
       "col5     8.638837e-01\n",
       "col10    1.178645e+01\n",
       "lista    2.394890e+08\n",
       "dtype: float64"
      ]
     },
     "execution_count": 146,
     "metadata": {},
     "output_type": "execute_result"
    }
   ],
   "source": [
    "df.max()"
   ]
  },
  {
   "cell_type": "code",
   "execution_count": 149,
   "metadata": {},
   "outputs": [
    {
     "data": {
      "text/plain": [
       "0    0.427691\n",
       "1    0.044237\n",
       "2   -0.620434\n",
       "3    0.032431\n",
       "4   -0.317264\n",
       "5   -0.013302\n",
       "6    0.312517\n",
       "7    0.113030\n",
       "8    0.000000\n",
       "9    0.000000\n",
       "dtype: float64"
      ]
     },
     "execution_count": 149,
     "metadata": {},
     "output_type": "execute_result"
    }
   ],
   "source": [
    "df.min(axis=1)"
   ]
  },
  {
   "cell_type": "code",
   "execution_count": 150,
   "metadata": {},
   "outputs": [
    {
     "data": {
      "text/html": [
       "<div>\n",
       "<style scoped>\n",
       "    .dataframe tbody tr th:only-of-type {\n",
       "        vertical-align: middle;\n",
       "    }\n",
       "\n",
       "    .dataframe tbody tr th {\n",
       "        vertical-align: top;\n",
       "    }\n",
       "\n",
       "    .dataframe thead th {\n",
       "        text-align: right;\n",
       "    }\n",
       "</style>\n",
       "<table border=\"1\" class=\"dataframe\">\n",
       "  <thead>\n",
       "    <tr style=\"text-align: right;\">\n",
       "      <th></th>\n",
       "      <th>Date</th>\n",
       "      <th>ads</th>\n",
       "    </tr>\n",
       "  </thead>\n",
       "  <tbody>\n",
       "    <tr>\n",
       "      <th>0</th>\n",
       "      <td>8/3/17 0:00</td>\n",
       "      <td>49136</td>\n",
       "    </tr>\n",
       "    <tr>\n",
       "      <th>1</th>\n",
       "      <td>8/3/17 1:00</td>\n",
       "      <td>46450</td>\n",
       "    </tr>\n",
       "    <tr>\n",
       "      <th>2</th>\n",
       "      <td>8/3/17 2:00</td>\n",
       "      <td>46355</td>\n",
       "    </tr>\n",
       "    <tr>\n",
       "      <th>3</th>\n",
       "      <td>8/3/17 3:00</td>\n",
       "      <td>43748</td>\n",
       "    </tr>\n",
       "    <tr>\n",
       "      <th>4</th>\n",
       "      <td>8/3/17 4:00</td>\n",
       "      <td>42281</td>\n",
       "    </tr>\n",
       "    <tr>\n",
       "      <th>...</th>\n",
       "      <td>...</td>\n",
       "      <td>...</td>\n",
       "    </tr>\n",
       "    <tr>\n",
       "      <th>2080</th>\n",
       "      <td>10/28/17 16:00</td>\n",
       "      <td>111837</td>\n",
       "    </tr>\n",
       "    <tr>\n",
       "      <th>2081</th>\n",
       "      <td>10/28/17 17:00</td>\n",
       "      <td>119322</td>\n",
       "    </tr>\n",
       "    <tr>\n",
       "      <th>2082</th>\n",
       "      <td>10/28/17 18:00</td>\n",
       "      <td>124567</td>\n",
       "    </tr>\n",
       "    <tr>\n",
       "      <th>2083</th>\n",
       "      <td>10/28/17 19:00</td>\n",
       "      <td>125366</td>\n",
       "    </tr>\n",
       "    <tr>\n",
       "      <th>2084</th>\n",
       "      <td>10/28/17 20:00</td>\n",
       "      <td>126644</td>\n",
       "    </tr>\n",
       "  </tbody>\n",
       "</table>\n",
       "<p>2085 rows × 2 columns</p>\n",
       "</div>"
      ],
      "text/plain": [
       "                Date     ads\n",
       "0        8/3/17 0:00   49136\n",
       "1        8/3/17 1:00   46450\n",
       "2        8/3/17 2:00   46355\n",
       "3        8/3/17 3:00   43748\n",
       "4        8/3/17 4:00   42281\n",
       "...              ...     ...\n",
       "2080  10/28/17 16:00  111837\n",
       "2081  10/28/17 17:00  119322\n",
       "2082  10/28/17 18:00  124567\n",
       "2083  10/28/17 19:00  125366\n",
       "2084  10/28/17 20:00  126644\n",
       "\n",
       "[2085 rows x 2 columns]"
      ]
     },
     "execution_count": 150,
     "metadata": {},
     "output_type": "execute_result"
    }
   ],
   "source": [
    "pd.read_csv('data/ads_hour.csv')"
   ]
  },
  {
   "cell_type": "code",
   "execution_count": 152,
   "metadata": {},
   "outputs": [
    {
     "data": {
      "text/plain": [
       "<pandas.io.excel._base.ExcelFile at 0x11b67d650>"
      ]
     },
     "execution_count": 152,
     "metadata": {},
     "output_type": "execute_result"
    }
   ],
   "source": [
    "exc=pd.ExcelFile('data/alumnos_export.xlsx')"
   ]
  },
  {
   "cell_type": "code",
   "execution_count": null,
   "metadata": {},
   "outputs": [],
   "source": [
    "# pd.read_excel(exc, 'sheet')"
   ]
  },
  {
   "cell_type": "code",
   "execution_count": 153,
   "metadata": {},
   "outputs": [
    {
     "data": {
      "text/html": [
       "<div>\n",
       "<style scoped>\n",
       "    .dataframe tbody tr th:only-of-type {\n",
       "        vertical-align: middle;\n",
       "    }\n",
       "\n",
       "    .dataframe tbody tr th {\n",
       "        vertical-align: top;\n",
       "    }\n",
       "\n",
       "    .dataframe thead th {\n",
       "        text-align: right;\n",
       "    }\n",
       "</style>\n",
       "<table border=\"1\" class=\"dataframe\">\n",
       "  <thead>\n",
       "    <tr style=\"text-align: right;\">\n",
       "      <th></th>\n",
       "      <th>Unnamed: 0</th>\n",
       "      <th>Nombre</th>\n",
       "      <th>Edad</th>\n",
       "    </tr>\n",
       "  </thead>\n",
       "  <tbody>\n",
       "    <tr>\n",
       "      <th>0</th>\n",
       "      <td>0</td>\n",
       "      <td>Pepe</td>\n",
       "      <td>10</td>\n",
       "    </tr>\n",
       "    <tr>\n",
       "      <th>1</th>\n",
       "      <td>1</td>\n",
       "      <td>Juan</td>\n",
       "      <td>20</td>\n",
       "    </tr>\n",
       "    <tr>\n",
       "      <th>2</th>\n",
       "      <td>2</td>\n",
       "      <td>Luis</td>\n",
       "      <td>25</td>\n",
       "    </tr>\n",
       "    <tr>\n",
       "      <th>3</th>\n",
       "      <td>3</td>\n",
       "      <td>Fran</td>\n",
       "      <td>15xº</td>\n",
       "    </tr>\n",
       "  </tbody>\n",
       "</table>\n",
       "</div>"
      ],
      "text/plain": [
       "   Unnamed: 0 Nombre  Edad\n",
       "0           0   Pepe    10\n",
       "1           1   Juan    20\n",
       "2           2   Luis    25\n",
       "3           3   Fran  15xº"
      ]
     },
     "execution_count": 153,
     "metadata": {},
     "output_type": "execute_result"
    }
   ],
   "source": [
    "pd.read_excel('data/alumnos_export.xlsx')"
   ]
  },
  {
   "cell_type": "code",
   "execution_count": 154,
   "metadata": {},
   "outputs": [
    {
     "name": "stdout",
     "output_type": "stream",
     "text": [
      "<class 'pandas.core.frame.DataFrame'>\n",
      "RangeIndex: 10 entries, 0 to 9\n",
      "Data columns (total 7 columns):\n",
      "col1     10 non-null float64\n",
      "col 2    10 non-null float64\n",
      "col3     10 non-null float64\n",
      "col4     10 non-null float64\n",
      "col5     10 non-null float64\n",
      "col10    10 non-null float64\n",
      "lista    10 non-null float64\n",
      "dtypes: float64(7)\n",
      "memory usage: 688.0 bytes\n"
     ]
    }
   ],
   "source": [
    "df.info()"
   ]
  },
  {
   "cell_type": "code",
   "execution_count": 155,
   "metadata": {},
   "outputs": [
    {
     "name": "stdout",
     "output_type": "stream",
     "text": [
      "<class 'pandas.core.frame.DataFrame'>\n",
      "RangeIndex: 10 entries, 0 to 9\n",
      "Data columns (total 7 columns):\n",
      "col1     10 non-null float64\n",
      "col 2    10 non-null float64\n",
      "col3     10 non-null float64\n",
      "col4     10 non-null float64\n",
      "col5     10 non-null float64\n",
      "col10    10 non-null float64\n",
      "lista    10 non-null float64\n",
      "dtypes: float64(7)\n",
      "memory usage: 688.0 bytes\n"
     ]
    }
   ],
   "source": [
    "df.info(memory_usage='deep')"
   ]
  },
  {
   "cell_type": "code",
   "execution_count": 157,
   "metadata": {},
   "outputs": [
    {
     "data": {
      "text/html": [
       "<div>\n",
       "<style scoped>\n",
       "    .dataframe tbody tr th:only-of-type {\n",
       "        vertical-align: middle;\n",
       "    }\n",
       "\n",
       "    .dataframe tbody tr th {\n",
       "        vertical-align: top;\n",
       "    }\n",
       "\n",
       "    .dataframe thead th {\n",
       "        text-align: right;\n",
       "    }\n",
       "</style>\n",
       "<table border=\"1\" class=\"dataframe\">\n",
       "  <thead>\n",
       "    <tr style=\"text-align: right;\">\n",
       "      <th></th>\n",
       "      <th>count</th>\n",
       "      <th>mean</th>\n",
       "      <th>std</th>\n",
       "      <th>min</th>\n",
       "      <th>25%</th>\n",
       "      <th>50%</th>\n",
       "      <th>75%</th>\n",
       "      <th>max</th>\n",
       "    </tr>\n",
       "  </thead>\n",
       "  <tbody>\n",
       "    <tr>\n",
       "      <th>col1</th>\n",
       "      <td>10.0</td>\n",
       "      <td>5.185780e-01</td>\n",
       "      <td>3.114552e-01</td>\n",
       "      <td>0.093525</td>\n",
       "      <td>0.276344</td>\n",
       "      <td>0.514688</td>\n",
       "      <td>0.749051</td>\n",
       "      <td>9.821544e-01</td>\n",
       "    </tr>\n",
       "    <tr>\n",
       "      <th>col 2</th>\n",
       "      <td>10.0</td>\n",
       "      <td>5.614741e-01</td>\n",
       "      <td>2.317906e-01</td>\n",
       "      <td>0.091626</td>\n",
       "      <td>0.497420</td>\n",
       "      <td>0.581658</td>\n",
       "      <td>0.700868</td>\n",
       "      <td>8.449193e-01</td>\n",
       "    </tr>\n",
       "    <tr>\n",
       "      <th>col3</th>\n",
       "      <td>10.0</td>\n",
       "      <td>4.901929e-01</td>\n",
       "      <td>3.112002e-01</td>\n",
       "      <td>0.044237</td>\n",
       "      <td>0.358183</td>\n",
       "      <td>0.450533</td>\n",
       "      <td>0.757323</td>\n",
       "      <td>9.346418e-01</td>\n",
       "    </tr>\n",
       "    <tr>\n",
       "      <th>col4</th>\n",
       "      <td>10.0</td>\n",
       "      <td>5.816998e-01</td>\n",
       "      <td>2.820381e-01</td>\n",
       "      <td>0.147600</td>\n",
       "      <td>0.371281</td>\n",
       "      <td>0.601998</td>\n",
       "      <td>0.779509</td>\n",
       "      <td>9.966200e-01</td>\n",
       "    </tr>\n",
       "    <tr>\n",
       "      <th>col5</th>\n",
       "      <td>10.0</td>\n",
       "      <td>3.531685e-01</td>\n",
       "      <td>2.638037e-01</td>\n",
       "      <td>0.044703</td>\n",
       "      <td>0.147436</td>\n",
       "      <td>0.300493</td>\n",
       "      <td>0.507607</td>\n",
       "      <td>8.638837e-01</td>\n",
       "    </tr>\n",
       "    <tr>\n",
       "      <th>col10</th>\n",
       "      <td>10.0</td>\n",
       "      <td>2.364549e+00</td>\n",
       "      <td>4.445727e+00</td>\n",
       "      <td>-0.620434</td>\n",
       "      <td>-0.001868</td>\n",
       "      <td>0.353430</td>\n",
       "      <td>1.641185</td>\n",
       "      <td>1.178645e+01</td>\n",
       "    </tr>\n",
       "    <tr>\n",
       "      <th>lista</th>\n",
       "      <td>10.0</td>\n",
       "      <td>4.800633e+07</td>\n",
       "      <td>1.009203e+08</td>\n",
       "      <td>0.000000</td>\n",
       "      <td>9280.000000</td>\n",
       "      <td>239840.000000</td>\n",
       "      <td>293487.000000</td>\n",
       "      <td>2.394890e+08</td>\n",
       "    </tr>\n",
       "  </tbody>\n",
       "</table>\n",
       "</div>"
      ],
      "text/plain": [
       "       count          mean           std       min          25%  \\\n",
       "col1    10.0  5.185780e-01  3.114552e-01  0.093525     0.276344   \n",
       "col 2   10.0  5.614741e-01  2.317906e-01  0.091626     0.497420   \n",
       "col3    10.0  4.901929e-01  3.112002e-01  0.044237     0.358183   \n",
       "col4    10.0  5.816998e-01  2.820381e-01  0.147600     0.371281   \n",
       "col5    10.0  3.531685e-01  2.638037e-01  0.044703     0.147436   \n",
       "col10   10.0  2.364549e+00  4.445727e+00 -0.620434    -0.001868   \n",
       "lista   10.0  4.800633e+07  1.009203e+08  0.000000  9280.000000   \n",
       "\n",
       "                 50%            75%           max  \n",
       "col1        0.514688       0.749051  9.821544e-01  \n",
       "col 2       0.581658       0.700868  8.449193e-01  \n",
       "col3        0.450533       0.757323  9.346418e-01  \n",
       "col4        0.601998       0.779509  9.966200e-01  \n",
       "col5        0.300493       0.507607  8.638837e-01  \n",
       "col10       0.353430       1.641185  1.178645e+01  \n",
       "lista  239840.000000  293487.000000  2.394890e+08  "
      ]
     },
     "execution_count": 157,
     "metadata": {},
     "output_type": "execute_result"
    }
   ],
   "source": [
    "df.describe().T"
   ]
  },
  {
   "cell_type": "code",
   "execution_count": 159,
   "metadata": {},
   "outputs": [
    {
     "data": {
      "text/html": [
       "<div>\n",
       "<style scoped>\n",
       "    .dataframe tbody tr th:only-of-type {\n",
       "        vertical-align: middle;\n",
       "    }\n",
       "\n",
       "    .dataframe tbody tr th {\n",
       "        vertical-align: top;\n",
       "    }\n",
       "\n",
       "    .dataframe thead th {\n",
       "        text-align: right;\n",
       "    }\n",
       "</style>\n",
       "<table border=\"1\" class=\"dataframe\">\n",
       "  <thead>\n",
       "    <tr style=\"text-align: right;\">\n",
       "      <th></th>\n",
       "      <th>index</th>\n",
       "      <th>count</th>\n",
       "      <th>mean</th>\n",
       "      <th>std</th>\n",
       "      <th>min</th>\n",
       "      <th>25%</th>\n",
       "      <th>50%</th>\n",
       "      <th>75%</th>\n",
       "      <th>max</th>\n",
       "    </tr>\n",
       "  </thead>\n",
       "  <tbody>\n",
       "    <tr>\n",
       "      <th>0</th>\n",
       "      <td>col1</td>\n",
       "      <td>10.0</td>\n",
       "      <td>5.185780e-01</td>\n",
       "      <td>3.114552e-01</td>\n",
       "      <td>0.093525</td>\n",
       "      <td>0.276344</td>\n",
       "      <td>0.514688</td>\n",
       "      <td>0.749051</td>\n",
       "      <td>9.821544e-01</td>\n",
       "    </tr>\n",
       "    <tr>\n",
       "      <th>1</th>\n",
       "      <td>col 2</td>\n",
       "      <td>10.0</td>\n",
       "      <td>5.614741e-01</td>\n",
       "      <td>2.317906e-01</td>\n",
       "      <td>0.091626</td>\n",
       "      <td>0.497420</td>\n",
       "      <td>0.581658</td>\n",
       "      <td>0.700868</td>\n",
       "      <td>8.449193e-01</td>\n",
       "    </tr>\n",
       "    <tr>\n",
       "      <th>2</th>\n",
       "      <td>col3</td>\n",
       "      <td>10.0</td>\n",
       "      <td>4.901929e-01</td>\n",
       "      <td>3.112002e-01</td>\n",
       "      <td>0.044237</td>\n",
       "      <td>0.358183</td>\n",
       "      <td>0.450533</td>\n",
       "      <td>0.757323</td>\n",
       "      <td>9.346418e-01</td>\n",
       "    </tr>\n",
       "    <tr>\n",
       "      <th>3</th>\n",
       "      <td>col4</td>\n",
       "      <td>10.0</td>\n",
       "      <td>5.816998e-01</td>\n",
       "      <td>2.820381e-01</td>\n",
       "      <td>0.147600</td>\n",
       "      <td>0.371281</td>\n",
       "      <td>0.601998</td>\n",
       "      <td>0.779509</td>\n",
       "      <td>9.966200e-01</td>\n",
       "    </tr>\n",
       "    <tr>\n",
       "      <th>4</th>\n",
       "      <td>col5</td>\n",
       "      <td>10.0</td>\n",
       "      <td>3.531685e-01</td>\n",
       "      <td>2.638037e-01</td>\n",
       "      <td>0.044703</td>\n",
       "      <td>0.147436</td>\n",
       "      <td>0.300493</td>\n",
       "      <td>0.507607</td>\n",
       "      <td>8.638837e-01</td>\n",
       "    </tr>\n",
       "    <tr>\n",
       "      <th>5</th>\n",
       "      <td>col10</td>\n",
       "      <td>10.0</td>\n",
       "      <td>2.364549e+00</td>\n",
       "      <td>4.445727e+00</td>\n",
       "      <td>-0.620434</td>\n",
       "      <td>-0.001868</td>\n",
       "      <td>0.353430</td>\n",
       "      <td>1.641185</td>\n",
       "      <td>1.178645e+01</td>\n",
       "    </tr>\n",
       "    <tr>\n",
       "      <th>6</th>\n",
       "      <td>lista</td>\n",
       "      <td>10.0</td>\n",
       "      <td>4.800633e+07</td>\n",
       "      <td>1.009203e+08</td>\n",
       "      <td>0.000000</td>\n",
       "      <td>9280.000000</td>\n",
       "      <td>239840.000000</td>\n",
       "      <td>293487.000000</td>\n",
       "      <td>2.394890e+08</td>\n",
       "    </tr>\n",
       "  </tbody>\n",
       "</table>\n",
       "</div>"
      ],
      "text/plain": [
       "   index  count          mean           std       min          25%  \\\n",
       "0   col1   10.0  5.185780e-01  3.114552e-01  0.093525     0.276344   \n",
       "1  col 2   10.0  5.614741e-01  2.317906e-01  0.091626     0.497420   \n",
       "2   col3   10.0  4.901929e-01  3.112002e-01  0.044237     0.358183   \n",
       "3   col4   10.0  5.816998e-01  2.820381e-01  0.147600     0.371281   \n",
       "4   col5   10.0  3.531685e-01  2.638037e-01  0.044703     0.147436   \n",
       "5  col10   10.0  2.364549e+00  4.445727e+00 -0.620434    -0.001868   \n",
       "6  lista   10.0  4.800633e+07  1.009203e+08  0.000000  9280.000000   \n",
       "\n",
       "             50%            75%           max  \n",
       "0       0.514688       0.749051  9.821544e-01  \n",
       "1       0.581658       0.700868  8.449193e-01  \n",
       "2       0.450533       0.757323  9.346418e-01  \n",
       "3       0.601998       0.779509  9.966200e-01  \n",
       "4       0.300493       0.507607  8.638837e-01  \n",
       "5       0.353430       1.641185  1.178645e+01  \n",
       "6  239840.000000  293487.000000  2.394890e+08  "
      ]
     },
     "execution_count": 159,
     "metadata": {},
     "output_type": "execute_result"
    }
   ],
   "source": [
    "df.describe().T.reset_index()"
   ]
  },
  {
   "cell_type": "code",
   "execution_count": 161,
   "metadata": {},
   "outputs": [],
   "source": [
    "df.describe().T.index=range(len(df.describe().T))"
   ]
  },
  {
   "cell_type": "code",
   "execution_count": 162,
   "metadata": {},
   "outputs": [
    {
     "data": {
      "text/html": [
       "<div>\n",
       "<style scoped>\n",
       "    .dataframe tbody tr th:only-of-type {\n",
       "        vertical-align: middle;\n",
       "    }\n",
       "\n",
       "    .dataframe tbody tr th {\n",
       "        vertical-align: top;\n",
       "    }\n",
       "\n",
       "    .dataframe thead th {\n",
       "        text-align: right;\n",
       "    }\n",
       "</style>\n",
       "<table border=\"1\" class=\"dataframe\">\n",
       "  <thead>\n",
       "    <tr style=\"text-align: right;\">\n",
       "      <th></th>\n",
       "      <th>lote</th>\n",
       "      <th>año</th>\n",
       "      <th>n</th>\n",
       "      <th>P</th>\n",
       "    </tr>\n",
       "  </thead>\n",
       "  <tbody>\n",
       "    <tr>\n",
       "      <th>0</th>\n",
       "      <td>8456</td>\n",
       "      <td>2003</td>\n",
       "      <td>7</td>\n",
       "      <td>20400</td>\n",
       "    </tr>\n",
       "    <tr>\n",
       "      <th>1</th>\n",
       "      <td>84564</td>\n",
       "      <td>2013</td>\n",
       "      <td>9</td>\n",
       "      <td>2400</td>\n",
       "    </tr>\n",
       "    <tr>\n",
       "      <th>2</th>\n",
       "      <td>83216</td>\n",
       "      <td>2005</td>\n",
       "      <td>6</td>\n",
       "      <td>200</td>\n",
       "    </tr>\n",
       "    <tr>\n",
       "      <th>3</th>\n",
       "      <td>234556</td>\n",
       "      <td>2008</td>\n",
       "      <td>10</td>\n",
       "      <td>400</td>\n",
       "    </tr>\n",
       "  </tbody>\n",
       "</table>\n",
       "</div>"
      ],
      "text/plain": [
       "     lote   año   n      P\n",
       "0    8456  2003   7  20400\n",
       "1   84564  2013   9   2400\n",
       "2   83216  2005   6    200\n",
       "3  234556  2008  10    400"
      ]
     },
     "execution_count": 162,
     "metadata": {},
     "output_type": "execute_result"
    }
   ],
   "source": [
    "df2._get_numeric_data()"
   ]
  },
  {
   "cell_type": "code",
   "execution_count": 164,
   "metadata": {},
   "outputs": [
    {
     "data": {
      "text/plain": [
       "numpy.ndarray"
      ]
     },
     "execution_count": 164,
     "metadata": {},
     "output_type": "execute_result"
    }
   ],
   "source": [
    "type(df.values)"
   ]
  },
  {
   "cell_type": "code",
   "execution_count": 165,
   "metadata": {},
   "outputs": [],
   "source": [
    "# https://pandas.pydata.org/pandas-docs/version/0.15.2/tutorials.html"
   ]
  },
  {
   "cell_type": "code",
   "execution_count": null,
   "metadata": {},
   "outputs": [],
   "source": []
  }
 ],
 "metadata": {
  "kernelspec": {
   "display_name": "Python 3",
   "language": "python",
   "name": "python3"
  },
  "language_info": {
   "codemirror_mode": {
    "name": "ipython",
    "version": 3
   },
   "file_extension": ".py",
   "mimetype": "text/x-python",
   "name": "python",
   "nbconvert_exporter": "python",
   "pygments_lexer": "ipython3",
   "version": "3.7.6"
  }
 },
 "nbformat": 4,
 "nbformat_minor": 2
}
