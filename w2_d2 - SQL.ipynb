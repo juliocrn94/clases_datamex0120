{
 "cells": [
  {
   "cell_type": "code",
   "execution_count": 1,
   "metadata": {},
   "outputs": [],
   "source": [
    "import pandas as pd\n",
    "import sqlalchemy as db\n",
    "import getpass"
   ]
  },
  {
   "cell_type": "code",
   "execution_count": 2,
   "metadata": {},
   "outputs": [
    {
     "name": "stdout",
     "output_type": "stream",
     "text": [
      "Introduce el pass de SQL...········\n"
     ]
    }
   ],
   "source": [
    "password=getpass.getpass('Introduce el pass de SQL...')"
   ]
  },
  {
   "cell_type": "code",
   "execution_count": 3,
   "metadata": {},
   "outputs": [
    {
     "name": "stdout",
     "output_type": "stream",
     "text": [
      "Conectado..\n"
     ]
    }
   ],
   "source": [
    "engine=db.create_engine('mysql+pymysql://root:{}@localhost/publications'.format(password))\n",
    "print ('Conectado..')"
   ]
  },
  {
   "cell_type": "code",
   "execution_count": 4,
   "metadata": {},
   "outputs": [],
   "source": [
    "query='''select group_concat(t.title) as titles,\n",
    "         t.year \n",
    "         from (select title, year(max(pubdate)) as 'year',\n",
    "         count(titleauthor.title_id) as numauthors,\n",
    "         group_concat(concat(authors.au_fname, ' ', authors.au_lname)) as authors\n",
    "         from titles \n",
    "         left join titleauthor\n",
    "         on titles.title_id=titleauthor.title_id\n",
    "         left join authors \n",
    "         on authors.au_id=titleauthor.au_id\n",
    "         group by titles.title\n",
    "         order by numauthors desc) as t\n",
    "         group by t.year;\n",
    "'''"
   ]
  },
  {
   "cell_type": "code",
   "execution_count": 5,
   "metadata": {},
   "outputs": [
    {
     "data": {
      "text/html": [
       "<div>\n",
       "<style scoped>\n",
       "    .dataframe tbody tr th:only-of-type {\n",
       "        vertical-align: middle;\n",
       "    }\n",
       "\n",
       "    .dataframe tbody tr th {\n",
       "        vertical-align: top;\n",
       "    }\n",
       "\n",
       "    .dataframe thead th {\n",
       "        text-align: right;\n",
       "    }\n",
       "</style>\n",
       "<table border=\"1\" class=\"dataframe\">\n",
       "  <thead>\n",
       "    <tr style=\"text-align: right;\">\n",
       "      <th></th>\n",
       "      <th>titles</th>\n",
       "      <th>year</th>\n",
       "    </tr>\n",
       "  </thead>\n",
       "  <tbody>\n",
       "    <tr>\n",
       "      <th>0</th>\n",
       "      <td>Is Anger the Enemy?,Straight Talk About Comput...</td>\n",
       "      <td>1991</td>\n",
       "    </tr>\n",
       "    <tr>\n",
       "      <th>1</th>\n",
       "      <td>Secrets of Silicon Valley</td>\n",
       "      <td>1994</td>\n",
       "    </tr>\n",
       "    <tr>\n",
       "      <th>2</th>\n",
       "      <td>Net Etiquette,The Psychology of Computer Cooking</td>\n",
       "      <td>2014</td>\n",
       "    </tr>\n",
       "  </tbody>\n",
       "</table>\n",
       "</div>"
      ],
      "text/plain": [
       "                                              titles  year\n",
       "0  Is Anger the Enemy?,Straight Talk About Comput...  1991\n",
       "1                          Secrets of Silicon Valley  1994\n",
       "2   Net Etiquette,The Psychology of Computer Cooking  2014"
      ]
     },
     "execution_count": 5,
     "metadata": {},
     "output_type": "execute_result"
    }
   ],
   "source": [
    "df=pd.read_sql_query(query, engine)\n",
    "df"
   ]
  },
  {
   "cell_type": "code",
   "execution_count": 6,
   "metadata": {},
   "outputs": [
    {
     "data": {
      "text/plain": [
       "['Is Anger the Enemy?',\n",
       " 'Straight Talk About Computers',\n",
       " \"The Busy Executive's Database Guide\",\n",
       " 'Life Without Fear',\n",
       " 'The Gourmet Microwave',\n",
       " 'Prolonged Data Deprivation: Four Case Studies',\n",
       " 'But Is It User Friendly?',\n",
       " 'Sushi',\n",
       " ' Anyone?',\n",
       " 'You Can Combat Computer Stress!',\n",
       " 'Onions',\n",
       " ' Leeks',\n",
       " ' and Garlic: Cooking Secrets of the Mediterranean',\n",
       " 'Computer Phobic AND Non-Phobic Individuals: Behavior Variations',\n",
       " 'Emotional Security: A New Algorithm',\n",
       " 'Cooking with Computers: Surreptitious Balance Sheets',\n",
       " 'Silicon Valley Gastronomic Treats',\n",
       " 'Fifty Years in Buckingham Palace Kitchens']"
      ]
     },
     "execution_count": 6,
     "metadata": {},
     "output_type": "execute_result"
    }
   ],
   "source": [
    "a=df.titles[0]\n",
    "a.split(',')"
   ]
  },
  {
   "cell_type": "code",
   "execution_count": 13,
   "metadata": {},
   "outputs": [
    {
     "name": "stdout",
     "output_type": "stream",
     "text": [
      "CPU times: user 4.32 ms, sys: 1.19 ms, total: 5.51 ms\n",
      "Wall time: 4.54 ms\n"
     ]
    },
    {
     "data": {
      "text/plain": [
       "365"
      ]
     },
     "execution_count": 13,
     "metadata": {},
     "output_type": "execute_result"
    }
   ],
   "source": [
    "%time pd.read_sql_query('select * from publications.employee;', engine)['job_id'].sum()"
   ]
  },
  {
   "cell_type": "code",
   "execution_count": 14,
   "metadata": {},
   "outputs": [
    {
     "name": "stdout",
     "output_type": "stream",
     "text": [
      "CPU times: user 1.6 ms, sys: 958 µs, total: 2.56 ms\n",
      "Wall time: 1.81 ms\n"
     ]
    },
    {
     "data": {
      "text/plain": [
       "365.0"
      ]
     },
     "execution_count": 14,
     "metadata": {},
     "output_type": "execute_result"
    }
   ],
   "source": [
    "%time pd.read_sql_query('select sum(job_id) as j from publications.employee;', engine)['j'][0]"
   ]
  },
  {
   "cell_type": "code",
   "execution_count": null,
   "metadata": {},
   "outputs": [],
   "source": []
  }
 ],
 "metadata": {
  "kernelspec": {
   "display_name": "Python 3",
   "language": "python",
   "name": "python3"
  },
  "language_info": {
   "codemirror_mode": {
    "name": "ipython",
    "version": 3
   },
   "file_extension": ".py",
   "mimetype": "text/x-python",
   "name": "python",
   "nbconvert_exporter": "python",
   "pygments_lexer": "ipython3",
   "version": "3.7.6"
  }
 },
 "nbformat": 4,
 "nbformat_minor": 2
}
